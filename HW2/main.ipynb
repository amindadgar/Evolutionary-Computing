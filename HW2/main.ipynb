{
 "cells": [
  {
   "cell_type": "code",
   "execution_count": 1,
   "metadata": {},
   "outputs": [],
   "source": [
    "import pandas as pd\n",
    "import numpy as np\n",
    "# import matplotlib.pyplot as plt\n",
    "# from sklearn.cluster import KMeans\n"
   ]
  },
  {
   "cell_type": "code",
   "execution_count": 2,
   "metadata": {},
   "outputs": [],
   "source": [
    "p1_data = pd.read_csv('data/P1.txt', delimiter=' ')"
   ]
  },
  {
   "cell_type": "code",
   "execution_count": 4,
   "metadata": {},
   "outputs": [],
   "source": [
    "DEPOT_LOCATION = (-14, 9)"
   ]
  },
  {
   "cell_type": "markdown",
   "metadata": {},
   "source": [
    "# Our functions import"
   ]
  },
  {
   "cell_type": "code",
   "execution_count": null,
   "metadata": {},
   "outputs": [],
   "source": [
    "from generate_population_scripts import generate_population, evaluate_distance_fitness, get_evalution_count, set_evaluation_count\n",
    "from combination import cut_and_crossfil, mutation_inverse, mutation_scramble\n",
    "from selection import roulette_wheel, binary_tournament"
   ]
  },
  {
   "cell_type": "markdown",
   "metadata": {},
   "source": [
    "# PROBLEM No. 1"
   ]
  },
  {
   "cell_type": "code",
   "execution_count": 11,
   "metadata": {},
   "outputs": [],
   "source": [
    "pop_arr = generate_population(70, DEPOT_LOCATION, p1_data)"
   ]
  },
  {
   "cell_type": "code",
   "execution_count": 26,
   "metadata": {},
   "outputs": [],
   "source": [
    "def algorithm_run(pop_count, dataset, depot_location_dict, depot_symbol, max_capacity, vehicle_count, selection_method, FITNESS_FUNCTION, MUTATION_METHOD, RECOMBINATION_METHOD, p_m=0.1, p_c =0.9 ,max_evaluations = 5000):\n",
    "    \"\"\"\n",
    "    depot_symbol is just one string\n",
    "    \"\"\"\n",
    "    ## reset the evaluation counts\n",
    "    set_evaluation_count(0)\n",
    "\n",
    "    population, fitness_pop = generate_population(max_capacity, depot_location_dict[depot_symbol], dataset, depot_symbol, pop_count, vehicle_count)\n",
    "    generation_count = 0\n",
    "\n",
    "    best_chromosome = None\n",
    "    best_chromsome_fitness = None\n",
    "\n",
    "    while get_evalution_count() < max_evaluations:\n",
    "        ## create pair of the parents\n",
    "        parent_pairs = []\n",
    "        for _ in range(pop_count):\n",
    "            pair = selection_method(population, fitness_pop)\n",
    "            parent_pairs.append(pair)\n",
    "\n",
    "        \n",
    "        offsprings = []\n",
    "        fitness_offsprings = []\n",
    "        for parents in parent_pairs:\n",
    "            recombination_p = np.random.random()\n",
    "\n",
    "            ## the offspring for this iteration\n",
    "            iteration_offspring = []\n",
    "            \n",
    "            ######## Recombination ########\n",
    "            if recombination_p < p_c:\n",
    "                offspring1, offspring2 =  RECOMBINATION_METHOD(parents[0], parents[1], dataset, max_capacity, [depot_symbol])\n",
    "\n",
    "                iteration_offspring = [offspring1, offspring2]\n",
    "\n",
    "            \n",
    "            ######## Mutation ########\n",
    "            mutation_p = np.random.random()\n",
    "\n",
    "            ## if cross over has happend\n",
    "            if len(iteration_offspring) != 0 and mutation_p < p_m:\n",
    "                offspring1 = MUTATION_METHOD(iteration_offspring[0], max_capacity, dataset, [depot_symbol])\n",
    "                offspring2 = MUTATION_METHOD(iteration_offspring[1], max_capacity, dataset, [depot_symbol])\n",
    "\n",
    "                iteration_offspring = [offspring1, offspring2]\n",
    "            ## if cross over had not happened\n",
    "            elif mutation_p < p_m:\n",
    "                offspring1 = MUTATION_METHOD(parents[0], max_capacity, dataset, [depot_symbol])\n",
    "                offspring2 = MUTATION_METHOD(parents[1], max_capacity, dataset, [depot_symbol])\n",
    "\n",
    "                iteration_offspring = [offspring1, offspring2]\n",
    "            ## if both cross over and mutation has not happened!\n",
    "            else:\n",
    "                iteration_offspring = [parents[0], parents[1]]\n",
    "            \n",
    "            ## finally append the genarated offsprings to offspring array \n",
    "            offsprings.append(iteration_offspring[0])\n",
    "            offsprings.append(iteration_offspring[1])\n",
    "\n",
    "            fitness_offsprings.append(FITNESS_FUNCTION(iteration_offspring[0], depot_location_dict[depot_symbol], dataset))\n",
    "            fitness_offsprings.append(FITNESS_FUNCTION(iteration_offspring[1], depot_location_dict[depot_symbol], dataset))\n",
    "\n",
    "        ## replace the old population with the new ones\n",
    "\n",
    "        ## the whole generation: parents + offsprings\n",
    "        generation_population = population.copy()\n",
    "        generation_population.extend(offsprings)\n",
    "\n",
    "        ## whole generation fitness: parents fitness + offsprings fitness\n",
    "        generation_fitness = fitness_pop.copy()\n",
    "        generation_fitness.extend(fitness_offsprings)\n",
    "\n",
    "        ## the sorted generation\n",
    "        generation_population_sorted = np.array(generation_population)[np.argsort(generation_fitness)]\n",
    "        generation_fitness_sorted = np.sort(generation_fitness)\n",
    "\n",
    "        ## Step 10\n",
    "        ## extract the best of the new generation\n",
    "\n",
    "        best_of_generation_population = generation_population_sorted[:pop_count]\n",
    "        best_of_generation_fitness = generation_fitness_sorted[:pop_count]\n",
    "\n",
    "        best_chromosome = generation_population_sorted[0]\n",
    "        best_chromsome_fitness = generation_fitness_sorted[0]\n",
    "\n",
    "        ## save them into the original population arrays\n",
    "        population = best_of_generation_population.tolist()\n",
    "        fitness_pop = best_of_generation_fitness.tolist()\n",
    "\n",
    "        ## increase the generation value\n",
    "        generation_count += 1\n",
    "    \n",
    "    return best_chromosome, best_chromsome_fitness"
   ]
  },
  {
   "cell_type": "code",
   "execution_count": 35,
   "metadata": {},
   "outputs": [
    {
     "data": {
      "text/plain": [
       "('(1)174116170163140(1)|(1)176144149(1)167131161123(1)124128118142110(1)195127164162(1)196146180182141(1)148175111171151139(1)|(1)197168115169184(1)154192109166112119190(1)|(1)150133147106137(1)193126200(1)102187173138135120(1)189125113172191(1)|(1)134143156159117(1)101177179(1)136121130157158103178(1)153152181183107199104(1)108185132160114194198(1)105188155122145186(1)|(1)165129(1)',\n",
       " 6088)"
      ]
     },
     "execution_count": 35,
     "metadata": {},
     "output_type": "execute_result"
    }
   ],
   "source": [
    "best_chromsome, best_chromsome_fitness = algorithm_run(pop_count = 50, \n",
    "                dataset=p1_data,\n",
    "                depot_location_dict= {'(1)': DEPOT_LOCATION},\n",
    "                depot_symbol='(1)',\n",
    "                max_capacity=70, \n",
    "                vehicle_count=6, \n",
    "                selection_method=binary_tournament,\n",
    "                FITNESS_FUNCTION=evaluate_distance_fitness,\n",
    "                MUTATION_METHOD=mutation_scramble,\n",
    "                RECOMBINATION_METHOD=cut_and_crossfil,\n",
    "                max_evaluations=5000)\n",
    "\n",
    "best_chromsome, best_chromsome_fitness"
   ]
  },
  {
   "cell_type": "code",
   "execution_count": null,
   "metadata": {},
   "outputs": [],
   "source": []
  }
 ],
 "metadata": {
  "kernelspec": {
   "display_name": "Python 3.10.6 64-bit",
   "language": "python",
   "name": "python3"
  },
  "language_info": {
   "codemirror_mode": {
    "name": "ipython",
    "version": 3
   },
   "file_extension": ".py",
   "mimetype": "text/x-python",
   "name": "python",
   "nbconvert_exporter": "python",
   "pygments_lexer": "ipython3",
   "version": "3.10.6"
  },
  "orig_nbformat": 4,
  "vscode": {
   "interpreter": {
    "hash": "2b955d226d9aa9f90a51fa3f36ce22332332eca7b3eabee7dfc09f1063aca4ef"
   }
  }
 },
 "nbformat": 4,
 "nbformat_minor": 2
}
