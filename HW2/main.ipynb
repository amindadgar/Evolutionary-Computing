{
 "cells": [
  {
   "cell_type": "code",
   "execution_count": 1,
   "metadata": {},
   "outputs": [],
   "source": [
    "import pandas as pd\n",
    "import numpy as np\n",
    "# import matplotlib.pyplot as plt\n",
    "# from sklearn.cluster import KMeans\n"
   ]
  },
  {
   "cell_type": "markdown",
   "metadata": {},
   "source": [
    "# Our functions import"
   ]
  },
  {
   "cell_type": "code",
   "execution_count": 2,
   "metadata": {},
   "outputs": [],
   "source": [
    "from generate_population_scripts import (generate_population,\n",
    "                                         evaluate_distance_fitness, \n",
    "                                         evaluate_fitness_customers_count,\n",
    "                                         evaluate_fitness_customers_served_demands,\n",
    "                                         evaluate_fitness_vehicle_count,\n",
    "                                         find_depot_using,\n",
    "                                         get_evalution_count, \n",
    "                                         set_evaluation_count)\n",
    "from combination import cut_and_crossfill, mutation_inverse, mutation_scramble\n",
    "from selection import roulette_wheel, binary_tournament"
   ]
  },
  {
   "cell_type": "code",
   "execution_count": 5,
   "metadata": {},
   "outputs": [],
   "source": [
    "def algorithm_run(pop_count, dataset, depot_location_dict, vehicle_count, selection_method, FITNESS_FUNCTION, MUTATION_METHOD, RECOMBINATION_METHOD, max_capacity=None, max_distance=None, p_m=0.1, p_c =0.9 ,max_evaluations = 5000):\n",
    "    \"\"\"\n",
    "    one constraint should be always given as input, the maximum capacity or maximum distance\n",
    "    \"\"\"\n",
    "    ## reset the evaluation counts\n",
    "    set_evaluation_count(0)\n",
    "\n",
    "    population, fitness_pop = generate_population(max_capacity=max_capacity,\n",
    "                                                     max_distance=max_distance,\n",
    "                                                     depot_location_dict= depot_location_dict,\n",
    "                                                     dataset=dataset, \n",
    "                                                     pop_count= pop_count,\n",
    "                                                     vehicle_count= vehicle_count, \n",
    "                                                     fitness_function = FITNESS_FUNCTION )\n",
    "    generation_count = 0\n",
    "\n",
    "    best_chromosome = None\n",
    "    best_chromsome_fitness = None\n",
    "\n",
    "    while get_evalution_count() < max_evaluations:\n",
    "        print(f'Generation Count: {generation_count}, Evaluations number: {get_evalution_count()}')\n",
    "        ## create pair of the parents\n",
    "        parent_pairs = []\n",
    "        for _ in range(pop_count):\n",
    "            pair = selection_method(population, fitness_pop)\n",
    "            parent_pairs.append(pair)\n",
    "\n",
    "        \n",
    "        offsprings = []\n",
    "        fitness_offsprings = []\n",
    "        for parents in parent_pairs:\n",
    "            recombination_p = np.random.random()\n",
    "\n",
    "            ## the offspring for this iteration\n",
    "            iteration_offspring = []\n",
    "            \n",
    "            ######## Recombination ########\n",
    "            if recombination_p < p_c:\n",
    "                offspring1, offspring2 =  RECOMBINATION_METHOD(parents[0], parents[1], dataset, max_capacity, max_distance, depot_location_dict)\n",
    "\n",
    "                iteration_offspring = [offspring1, offspring2]\n",
    "\n",
    "            \n",
    "            ######## Mutation ########\n",
    "            mutation_p = np.random.random()\n",
    "\n",
    "            ## if cross over has happend\n",
    "            if len(iteration_offspring) != 0 and mutation_p < p_m:\n",
    "                offspring1 = MUTATION_METHOD(iteration_offspring[0], max_capacity, dataset, depot_location_dict, max_distance)\n",
    "                offspring2 = MUTATION_METHOD(iteration_offspring[1], max_capacity, dataset, depot_location_dict, max_distance)\n",
    "\n",
    "                iteration_offspring = [offspring1, offspring2]\n",
    "            ## if cross over had not happened\n",
    "            elif mutation_p < p_m:\n",
    "                offspring1 = MUTATION_METHOD(parents[0], max_capacity, dataset, depot_location_dict, max_distance)\n",
    "                offspring2 = MUTATION_METHOD(parents[1], max_capacity, dataset, depot_location_dict, max_distance)\n",
    "\n",
    "                iteration_offspring = [offspring1, offspring2]\n",
    "            ## if both cross over and mutation has not happened!\n",
    "            else:\n",
    "                iteration_offspring = [parents[0], parents[1]]\n",
    "            \n",
    "            ## finally append the genarated offsprings to offspring array \n",
    "            offsprings.append(iteration_offspring[0])\n",
    "            offsprings.append(iteration_offspring[1])\n",
    "            \n",
    "            depot_symbol = find_depot_using(iteration_offspring[0], list(depot_location_dict.keys()))\n",
    "            fitness_offsprings.append(FITNESS_FUNCTION(iteration_offspring[0], depot_location_dict[depot_symbol], dataset, depot_symbol))\n",
    "            depot_symbol = find_depot_using(iteration_offspring[1], list(depot_location_dict.keys()))\n",
    "            fitness_offsprings.append(FITNESS_FUNCTION(iteration_offspring[1], depot_location_dict[depot_symbol], dataset, depot_symbol))\n",
    "\n",
    "        ## replace the old population with the new ones\n",
    "\n",
    "        ## the whole generation: parents + offsprings\n",
    "        generation_population = population.copy()\n",
    "        generation_population.extend(offsprings)\n",
    "\n",
    "        ## whole generation fitness: parents fitness + offsprings fitness\n",
    "        generation_fitness = fitness_pop.copy()\n",
    "        generation_fitness.extend(fitness_offsprings)\n",
    "\n",
    "        ## the sorted generation\n",
    "        generation_population_sorted = np.array(generation_population)[np.argsort(generation_fitness)]\n",
    "        generation_fitness_sorted = np.sort(generation_fitness)\n",
    "\n",
    "        ## Step 10\n",
    "        ## extract the best of the new generation\n",
    "        best_of_generation_population = generation_population_sorted[:pop_count]\n",
    "        best_of_generation_fitness = generation_fitness_sorted[:pop_count]\n",
    "\n",
    "        best_chromosome = generation_population_sorted[0]\n",
    "        best_chromsome_fitness = generation_fitness_sorted[0]\n",
    "        \n",
    "        ## save them into the original population arrays\n",
    "        population = best_of_generation_population.tolist()\n",
    "        fitness_pop = best_of_generation_fitness.tolist()\n",
    "        \n",
    "\n",
    "        ## increase the generation value\n",
    "        generation_count += 1\n",
    "    \n",
    "    return best_chromosome, best_chromsome_fitness"
   ]
  },
  {
   "cell_type": "markdown",
   "metadata": {},
   "source": [
    "# PROBLEM No. 1\n",
    "The goal is to minimize the distance gone, of the vehicles with the parameters below\n",
    "- There is 1 depot in the location `(-14, 9)`\n",
    "- There are `6` vehicles\n",
    "- Maximum Capacity is `70`\n",
    "- The locations of the customers and their demands are in `P1.txt` file\n",
    "- The distance each vehicle can go is not limited."
   ]
  },
  {
   "cell_type": "code",
   "execution_count": 4,
   "metadata": {},
   "outputs": [],
   "source": [
    "p1_data = pd.read_csv('data/P1.txt', delimiter=' ')\n",
    "DEPOT_LOCATION = (-14, 9)\n",
    "\n",
    "# pop_arr = generate_population(70, DEPOT_LOCATION, p1_data, evaluate_distance_fitness)"
   ]
  },
  {
   "cell_type": "code",
   "execution_count": 5,
   "metadata": {},
   "outputs": [
    {
     "name": "stdout",
     "output_type": "stream",
     "text": [
      "Generation Count: 0, Evaluations number: 50\n",
      "Generation Count: 1, Evaluations number: 150\n",
      "Generation Count: 2, Evaluations number: 250\n",
      "Generation Count: 3, Evaluations number: 350\n",
      "Generation Count: 4, Evaluations number: 450\n",
      "Generation Count: 5, Evaluations number: 550\n",
      "Generation Count: 6, Evaluations number: 650\n",
      "Generation Count: 7, Evaluations number: 750\n",
      "Generation Count: 8, Evaluations number: 850\n",
      "Generation Count: 9, Evaluations number: 950\n",
      "Generation Count: 10, Evaluations number: 1050\n",
      "Generation Count: 11, Evaluations number: 1150\n",
      "Generation Count: 12, Evaluations number: 1250\n",
      "Generation Count: 13, Evaluations number: 1350\n",
      "Generation Count: 14, Evaluations number: 1450\n",
      "Generation Count: 15, Evaluations number: 1550\n",
      "Generation Count: 16, Evaluations number: 1650\n",
      "Generation Count: 17, Evaluations number: 1750\n",
      "Generation Count: 18, Evaluations number: 1850\n",
      "Generation Count: 19, Evaluations number: 1950\n",
      "Generation Count: 20, Evaluations number: 2050\n",
      "Generation Count: 21, Evaluations number: 2150\n",
      "Generation Count: 22, Evaluations number: 2250\n",
      "Generation Count: 23, Evaluations number: 2350\n",
      "Generation Count: 24, Evaluations number: 2450\n",
      "Generation Count: 25, Evaluations number: 2550\n",
      "Generation Count: 26, Evaluations number: 2650\n",
      "Generation Count: 27, Evaluations number: 2750\n",
      "Generation Count: 28, Evaluations number: 2850\n",
      "Generation Count: 29, Evaluations number: 2950\n",
      "Generation Count: 30, Evaluations number: 3050\n",
      "Generation Count: 31, Evaluations number: 3150\n",
      "Generation Count: 32, Evaluations number: 3250\n",
      "Generation Count: 33, Evaluations number: 3350\n",
      "Generation Count: 34, Evaluations number: 3450\n",
      "Generation Count: 35, Evaluations number: 3550\n",
      "Generation Count: 36, Evaluations number: 3650\n",
      "Generation Count: 37, Evaluations number: 3750\n",
      "Generation Count: 38, Evaluations number: 3850\n",
      "Generation Count: 39, Evaluations number: 3950\n",
      "Generation Count: 40, Evaluations number: 4050\n",
      "Generation Count: 41, Evaluations number: 4150\n",
      "Generation Count: 42, Evaluations number: 4250\n",
      "Generation Count: 43, Evaluations number: 4350\n",
      "Generation Count: 44, Evaluations number: 4450\n",
      "Generation Count: 45, Evaluations number: 4550\n",
      "Generation Count: 46, Evaluations number: 4650\n",
      "Generation Count: 47, Evaluations number: 4750\n",
      "Generation Count: 48, Evaluations number: 4850\n",
      "Generation Count: 49, Evaluations number: 4950\n"
     ]
    },
    {
     "data": {
      "text/plain": [
       "('(1)165116142164(1)|(1)197169121183109196104(1)|(1)127133119158170(1)118148135172193(1)|(1)199141186182(1)124107110112132194(1)122128168161101(1)|(1)131157166167138184(1)134144117(1)|(1)179106185(1)|(1)139160130114177154150(1)136188189174173(1)|(1)176200180151102(1)|(1)159163125175(1)|(1)149143126(1)|(1)140111152162115(1)|(1)195153146129187171120(1)|(1)137123156113(1)|(1)155178191192181145(1)198190147105108103(1)',\n",
       " 6398)"
      ]
     },
     "execution_count": 5,
     "metadata": {},
     "output_type": "execute_result"
    }
   ],
   "source": [
    "problem1_best_chromsome, problem1_best_chromsome_fitness = algorithm_run(pop_count = 50, \n",
    "                dataset=p1_data,\n",
    "                depot_location_dict= {'(1)': DEPOT_LOCATION},\n",
    "                depot_symbol='(1)',\n",
    "                max_capacity=70, \n",
    "                vehicle_count=6, \n",
    "                max_distance=None,\n",
    "                selection_method=binary_tournament,\n",
    "                FITNESS_FUNCTION=evaluate_distance_fitness,\n",
    "                MUTATION_METHOD=mutation_scramble,\n",
    "                RECOMBINATION_METHOD=cut_and_crossfill,\n",
    "                max_evaluations=5000)\n",
    "\n",
    "problem1_best_chromsome, problem1_best_chromsome_fitness"
   ]
  },
  {
   "cell_type": "markdown",
   "metadata": {},
   "source": [
    "# Problem No. 2\n",
    "The goal is to maximize the customers recieved service with parametes below\n",
    "- There is 1 depot in the location `(0, 13)`\n",
    "- There are `4` vehicles\n",
    "- Maximum distace each vehicle can go is `200` Km\n",
    "- The locations of the customers and their demands are in `P2.txt` file\n",
    "- The capacity is not limited for vehicles"
   ]
  },
  {
   "cell_type": "code",
   "execution_count": 4,
   "metadata": {},
   "outputs": [],
   "source": [
    "p2_data = pd.read_csv('data/P2.txt', delimiter=' ')\n",
    "DEPOT_LOCATION = (0, 13)"
   ]
  },
  {
   "cell_type": "code",
   "execution_count": 5,
   "metadata": {},
   "outputs": [
    {
     "name": "stdout",
     "output_type": "stream",
     "text": [
      "Generation Count: 0, Evaluations number: 50\n",
      "Generation Count: 1, Evaluations number: 150\n",
      "Generation Count: 2, Evaluations number: 250\n",
      "Generation Count: 3, Evaluations number: 350\n",
      "Generation Count: 4, Evaluations number: 450\n",
      "Generation Count: 5, Evaluations number: 550\n",
      "Generation Count: 6, Evaluations number: 650\n",
      "Generation Count: 7, Evaluations number: 750\n",
      "Generation Count: 8, Evaluations number: 850\n",
      "Generation Count: 9, Evaluations number: 950\n",
      "Generation Count: 10, Evaluations number: 1050\n",
      "Generation Count: 11, Evaluations number: 1150\n",
      "Generation Count: 12, Evaluations number: 1250\n",
      "Generation Count: 13, Evaluations number: 1350\n",
      "Generation Count: 14, Evaluations number: 1450\n",
      "Generation Count: 15, Evaluations number: 1550\n",
      "Generation Count: 16, Evaluations number: 1650\n",
      "Generation Count: 17, Evaluations number: 1750\n",
      "Generation Count: 18, Evaluations number: 1850\n",
      "Generation Count: 19, Evaluations number: 1950\n",
      "Generation Count: 20, Evaluations number: 2050\n",
      "Generation Count: 21, Evaluations number: 2150\n",
      "Generation Count: 22, Evaluations number: 2250\n",
      "Generation Count: 23, Evaluations number: 2350\n",
      "Generation Count: 24, Evaluations number: 2450\n",
      "Generation Count: 25, Evaluations number: 2550\n",
      "Generation Count: 26, Evaluations number: 2650\n",
      "Generation Count: 27, Evaluations number: 2750\n",
      "Generation Count: 28, Evaluations number: 2850\n",
      "Generation Count: 29, Evaluations number: 2950\n",
      "Generation Count: 30, Evaluations number: 3050\n",
      "Generation Count: 31, Evaluations number: 3150\n",
      "Generation Count: 32, Evaluations number: 3250\n",
      "Generation Count: 33, Evaluations number: 3350\n",
      "Generation Count: 34, Evaluations number: 3450\n",
      "Generation Count: 35, Evaluations number: 3550\n",
      "Generation Count: 36, Evaluations number: 3650\n",
      "Generation Count: 37, Evaluations number: 3750\n",
      "Generation Count: 38, Evaluations number: 3850\n",
      "Generation Count: 39, Evaluations number: 3950\n",
      "Generation Count: 40, Evaluations number: 4050\n",
      "Generation Count: 41, Evaluations number: 4150\n",
      "Generation Count: 42, Evaluations number: 4250\n",
      "Generation Count: 43, Evaluations number: 4350\n",
      "Generation Count: 44, Evaluations number: 4450\n",
      "Generation Count: 45, Evaluations number: 4550\n",
      "Generation Count: 46, Evaluations number: 4650\n",
      "Generation Count: 47, Evaluations number: 4750\n",
      "Generation Count: 48, Evaluations number: 4850\n",
      "Generation Count: 49, Evaluations number: 4950\n"
     ]
    },
    {
     "data": {
      "text/plain": [
       "('(1)167127109123183141192144172194118113120(1)|(1)173169131152129132142176136105121151128103149157184177174189163102(1)|(1)198164148111185137110150168(1)|(1)158188199153125107191133138180186146162161179104155124197195175126200114143112(1)',\n",
       " 0.014285714285714285)"
      ]
     },
     "execution_count": 5,
     "metadata": {},
     "output_type": "execute_result"
    }
   ],
   "source": [
    "problem2_best_chromsome, problem2_best_chromsome_fitness = algorithm_run(pop_count = 50, \n",
    "                dataset=p2_data,\n",
    "                depot_location_dict= {'(1)': DEPOT_LOCATION},\n",
    "#                 depot_symbol='(1)',\n",
    "                max_capacity=None, \n",
    "                max_distance=200,\n",
    "                vehicle_count=4, \n",
    "                selection_method=binary_tournament,\n",
    "                FITNESS_FUNCTION=evaluate_fitness_customers_count,\n",
    "                MUTATION_METHOD=mutation_scramble,\n",
    "                RECOMBINATION_METHOD=cut_and_crossfill,\n",
    "                max_evaluations=5000)\n",
    "\n",
    "problem2_best_chromsome, problem2_best_chromsome_fitness"
   ]
  },
  {
   "cell_type": "code",
   "execution_count": 7,
   "metadata": {},
   "outputs": [
    {
     "data": {
      "text/plain": [
       "70.0"
      ]
     },
     "execution_count": 7,
     "metadata": {},
     "output_type": "execute_result"
    }
   ],
   "source": [
    "## the number of customers served\n",
    "1 / problem2_best_chromsome_fitness"
   ]
  },
  {
   "cell_type": "markdown",
   "metadata": {},
   "source": [
    "# Problem No. 3\n",
    "The goal is to maximize the demands of customers with parametes below\n",
    "- There is 1 depot in the location `(-17, -4)`\n",
    "- There are `4` vehicles\n",
    "- Maximum distace each vehicle can go is `200` Km\n",
    "- The locations of the customers and their demands are in `P3.txt` file\n",
    "- The capacity is not limited for vehicles"
   ]
  },
  {
   "cell_type": "code",
   "execution_count": 6,
   "metadata": {},
   "outputs": [],
   "source": [
    "p3_data = pd.read_csv('data/P3.txt', delimiter=' ')\n",
    "DEPOT_LOCATION = (-17, -4)"
   ]
  },
  {
   "cell_type": "code",
   "execution_count": 7,
   "metadata": {},
   "outputs": [
    {
     "name": "stdout",
     "output_type": "stream",
     "text": [
      "Generation Count: 0, Evaluations number: 50\n",
      "Generation Count: 1, Evaluations number: 150\n",
      "Generation Count: 2, Evaluations number: 250\n",
      "Generation Count: 3, Evaluations number: 350\n",
      "Generation Count: 4, Evaluations number: 450\n",
      "Generation Count: 5, Evaluations number: 550\n",
      "Generation Count: 6, Evaluations number: 650\n",
      "Generation Count: 7, Evaluations number: 750\n",
      "Generation Count: 8, Evaluations number: 850\n",
      "Generation Count: 9, Evaluations number: 950\n",
      "Generation Count: 10, Evaluations number: 1050\n",
      "Generation Count: 11, Evaluations number: 1150\n",
      "Generation Count: 12, Evaluations number: 1250\n",
      "Generation Count: 13, Evaluations number: 1350\n",
      "Generation Count: 14, Evaluations number: 1450\n",
      "Generation Count: 15, Evaluations number: 1550\n",
      "Generation Count: 16, Evaluations number: 1650\n",
      "Generation Count: 17, Evaluations number: 1750\n",
      "Generation Count: 18, Evaluations number: 1850\n",
      "Generation Count: 19, Evaluations number: 1950\n",
      "Generation Count: 20, Evaluations number: 2050\n",
      "Generation Count: 21, Evaluations number: 2150\n",
      "Generation Count: 22, Evaluations number: 2250\n",
      "Generation Count: 23, Evaluations number: 2350\n",
      "Generation Count: 24, Evaluations number: 2450\n",
      "Generation Count: 25, Evaluations number: 2550\n",
      "Generation Count: 26, Evaluations number: 2650\n",
      "Generation Count: 27, Evaluations number: 2750\n",
      "Generation Count: 28, Evaluations number: 2850\n",
      "Generation Count: 29, Evaluations number: 2950\n",
      "Generation Count: 30, Evaluations number: 3050\n",
      "Generation Count: 31, Evaluations number: 3150\n",
      "Generation Count: 32, Evaluations number: 3250\n",
      "Generation Count: 33, Evaluations number: 3350\n",
      "Generation Count: 34, Evaluations number: 3450\n",
      "Generation Count: 35, Evaluations number: 3550\n",
      "Generation Count: 36, Evaluations number: 3650\n",
      "Generation Count: 37, Evaluations number: 3750\n",
      "Generation Count: 38, Evaluations number: 3850\n",
      "Generation Count: 39, Evaluations number: 3950\n",
      "Generation Count: 40, Evaluations number: 4050\n",
      "Generation Count: 41, Evaluations number: 4150\n",
      "Generation Count: 42, Evaluations number: 4250\n",
      "Generation Count: 43, Evaluations number: 4350\n",
      "Generation Count: 44, Evaluations number: 4450\n",
      "Generation Count: 45, Evaluations number: 4550\n",
      "Generation Count: 46, Evaluations number: 4650\n",
      "Generation Count: 47, Evaluations number: 4750\n",
      "Generation Count: 48, Evaluations number: 4850\n",
      "Generation Count: 49, Evaluations number: 4950\n"
     ]
    },
    {
     "data": {
      "text/plain": [
       "('(1)120159130118(1)187(1)147(1)155170194(1)116110(1)(1)160(1)146(1)164163180(1)|(1)191(1)108181(1)133166198(1)177144(1)(1)105(1)115(1)132(1)179169158(1)101(1)168109(1)200(1)176106175(1)138157173(1)192161(1)139(1)134113(1)197(1)122178(1)141114(1)185(1)189142(1)154129(1)171182(1)150(1)121145(1)102172(1)123136(1)(1)112143(1)195188167(1)124(1)135119(1)165(1)153(1)199(1)190131(1)137(1)|(1)184149(1)148(1)103111(1)126(1)152174(1)162(1)|(1)156183(1)104193(1)151196(1)107117(1)|(1)(1)128(1)186(1)140(1)127125(1)',\n",
       " 9.085953116481919e-05)"
      ]
     },
     "execution_count": 7,
     "metadata": {},
     "output_type": "execute_result"
    }
   ],
   "source": [
    "problem3_best_chromsome, problem3_best_chromsome_fitness = algorithm_run(pop_count = 50, \n",
    "                dataset=p3_data,\n",
    "                depot_location_dict= {'(1)': DEPOT_LOCATION},\n",
    "#                 depot_symbol='(1)',\n",
    "                max_capacity=None, \n",
    "                max_distance=200,\n",
    "                vehicle_count=4, \n",
    "                selection_method=binary_tournament,\n",
    "                FITNESS_FUNCTION=evaluate_fitness_customers_served_demands,\n",
    "                MUTATION_METHOD=mutation_scramble,\n",
    "                RECOMBINATION_METHOD=cut_and_crossfill,\n",
    "                max_evaluations=5000)\n",
    "\n",
    "problem3_best_chromsome, problem3_best_chromsome_fitness"
   ]
  },
  {
   "cell_type": "code",
   "execution_count": 8,
   "metadata": {},
   "outputs": [
    {
     "data": {
      "text/plain": [
       "11006.0"
      ]
     },
     "execution_count": 8,
     "metadata": {},
     "output_type": "execute_result"
    }
   ],
   "source": [
    "## the maximum value of served demands \n",
    "1 / problem3_best_chromsome_fitness"
   ]
  },
  {
   "cell_type": "markdown",
   "metadata": {},
   "source": [
    "# Problem No. 4\n",
    "**The fitness function of this problem is left TODO!**\n",
    "\n",
    "The goal is to minimize number of vehicles with parametes below\n",
    "- There is 1 depot in the location `(24, -7)`\n",
    "- There are `?` vehicles (optimization objective)\n",
    "- Maximum distace each vehicle can go is `200` Km\n",
    "- The locations of the customers and their demands are in `P4.txt` file\n",
    "- The capacity is not limited for vehicles"
   ]
  },
  {
   "cell_type": "code",
   "execution_count": 3,
   "metadata": {},
   "outputs": [],
   "source": [
    "p4_data = pd.read_csv('data/P4.txt', delimiter=' ')\n",
    "DEPOT_LOCATION = (24, -7)"
   ]
  },
  {
   "cell_type": "code",
   "execution_count": 6,
   "metadata": {},
   "outputs": [
    {
     "name": "stdout",
     "output_type": "stream",
     "text": [
      "Generation Count: 0, Evaluations number: 50\n",
      "Generation Count: 1, Evaluations number: 150\n",
      "Generation Count: 2, Evaluations number: 250\n",
      "Generation Count: 3, Evaluations number: 350\n",
      "Generation Count: 4, Evaluations number: 450\n"
     ]
    },
    {
     "data": {
      "text/plain": [
       "('(1)111105228(1)|(1)247130120230135187103167125223(1)|(1)131155138164210189141114171243145139133205160242161144198231219250162176143132173154199206128104137213150140115149201225232220156185(1)|(1)',\n",
       " 6.631578947368421)"
      ]
     },
     "execution_count": 6,
     "metadata": {},
     "output_type": "execute_result"
    }
   ],
   "source": [
    "problem4_best_chromsome, problem4_best_chromsome_fitness = algorithm_run(pop_count = 50, \n",
    "                dataset=p4_data,\n",
    "                depot_location_dict= {'(1)': DEPOT_LOCATION},\n",
    "                max_capacity=None, \n",
    "                max_distance=200,\n",
    "                vehicle_count=None, \n",
    "                selection_method=binary_tournament,\n",
    "                FITNESS_FUNCTION=evaluate_fitness_vehicle_count,\n",
    "                MUTATION_METHOD=mutation_scramble,\n",
    "                RECOMBINATION_METHOD=cut_and_crossfill,\n",
    "                max_evaluations=500)\n",
    "\n",
    "problem4_best_chromsome, problem4_best_chromsome_fitness"
   ]
  },
  {
   "cell_type": "code",
   "execution_count": null,
   "metadata": {},
   "outputs": [],
   "source": []
  },
  {
   "cell_type": "markdown",
   "metadata": {},
   "source": [
    "# Problem No. 5\n",
    "The goal is to minimize the distance gone, of the vehicles with the parameters below\n",
    "- There are 3 depot in the location `(31, 6)`, `(-31, 7)`, `(25, -10)`.\n",
    "- There are `11` vehicles\n",
    "- Maximum Capacity is `100`\n",
    "- The locations of the customers and their demands are in `P5.txt` file\n",
    "- The distance each vehicle can go is not limited."
   ]
  },
  {
   "cell_type": "code",
   "execution_count": 4,
   "metadata": {},
   "outputs": [],
   "source": [
    "p5_data = pd.read_csv('data/P5.txt', delimiter=' ')\n",
    "DEPOT_LOCATIONS_dict = {\n",
    "    '(1)': (31, 6),\n",
    "    '(2)': (-31, 7),\n",
    "    '(3)': (25, -10)\n",
    "}    "
   ]
  },
  {
   "cell_type": "code",
   "execution_count": 5,
   "metadata": {},
   "outputs": [
    {
     "name": "stdout",
     "output_type": "stream",
     "text": [
      "Generation Count: 0, Evaluations number: 50\n",
      "Generation Count: 1, Evaluations number: 150\n",
      "Generation Count: 2, Evaluations number: 250\n"
     ]
    },
    {
     "data": {
      "text/plain": [
       "('(3)166240139236135122232(3)111184(3)|(3)186116244243208191148163235213(3)225123215222106(3)152156165124176151205214206200(3)192108109128129210(3)|(3)190161219137(3)238126136159247133241(3)|(3)204110193169196(3)167201146181228162179153(3)237223104(3)211141144130125173245131(3)105217(3)|(3)183121158230199249114112(3)118197207209229177(3)|(3)188194231216103(3)|(3)175226198250172220221168(3)212185120143145155189(3)102117132142119227(3)|(3)154170147178203(3)|(3)180239224(3)|(3)171149(3)242115164107182248202(3)140160234(3)|(3)127101218246187138195150157(3)|(3)113174233134(3)',\n",
       " 10534)"
      ]
     },
     "execution_count": 5,
     "metadata": {},
     "output_type": "execute_result"
    }
   ],
   "source": [
    "problem5_best_chromsome, problem5_best_chromsome_fitness = algorithm_run(pop_count = 50, \n",
    "                dataset=p5_data,\n",
    "                depot_location_dict= DEPOT_LOCATIONS_dict,\n",
    "                max_capacity=100, \n",
    "                max_distance=None,\n",
    "                vehicle_count=11, \n",
    "                selection_method=binary_tournament,\n",
    "                FITNESS_FUNCTION=evaluate_distance_fitness,\n",
    "                MUTATION_METHOD=mutation_scramble,\n",
    "                RECOMBINATION_METHOD=cut_and_crossfill,\n",
    "                max_evaluations=300)\n",
    "\n",
    "problem5_best_chromsome, problem5_best_chromsome_fitness"
   ]
  },
  {
   "cell_type": "markdown",
   "metadata": {},
   "source": [
    "# Problem No. 6\n",
    "The goal is to maximize the customers recieved service with parametes below\n",
    "- There are two depots in the location `(11, 36)`, `(19, -41)`\n",
    "- There are `7` vehicles\n",
    "- Maximum distace each vehicle can go is `250` Km\n",
    "- The locations of the customers and their demands are in `P6.txt` file\n",
    "- The capacity is not limited for vehicles"
   ]
  },
  {
   "cell_type": "code",
   "execution_count": 8,
   "metadata": {},
   "outputs": [],
   "source": [
    "p6_data = pd.read_csv('data/P6.txt', delimiter=' ')\n",
    "DEPOT_LOCATIONS_dict = {\n",
    "    '(1)': (11, 36),\n",
    "    '(2)': (19, -41)\n",
    "}    "
   ]
  },
  {
   "cell_type": "code",
   "execution_count": 9,
   "metadata": {},
   "outputs": [
    {
     "name": "stdout",
     "output_type": "stream",
     "text": [
      "Generation Count: 0, Evaluations number: 50\n",
      "Generation Count: 1, Evaluations number: 150\n",
      "Generation Count: 2, Evaluations number: 250\n"
     ]
    },
    {
     "data": {
      "text/plain": [
       "('(1)213121216165219115103134117178209136131102158128171164200145197135122215166205124113107196(1)|(1)220137114(1)|(1)179148187176201(1)|(1)',\n",
       " 0.02631578947368421)"
      ]
     },
     "execution_count": 9,
     "metadata": {},
     "output_type": "execute_result"
    }
   ],
   "source": [
    "problem6_best_chromsome, problem6_best_chromsome_fitness = algorithm_run(pop_count = 50, \n",
    "                dataset=p6_data,\n",
    "                depot_location_dict= DEPOT_LOCATIONS_dict,\n",
    "                max_capacity=None, \n",
    "                max_distance=250,\n",
    "                vehicle_count=7, \n",
    "                selection_method=binary_tournament,\n",
    "                FITNESS_FUNCTION=evaluate_fitness_customers_count,\n",
    "                MUTATION_METHOD=mutation_scramble,\n",
    "                RECOMBINATION_METHOD=cut_and_crossfill,\n",
    "                max_evaluations=300)\n",
    "\n",
    "problem6_best_chromsome, problem6_best_chromsome_fitness"
   ]
  },
  {
   "cell_type": "code",
   "execution_count": 11,
   "metadata": {},
   "outputs": [
    {
     "data": {
      "text/plain": [
       "38.0"
      ]
     },
     "execution_count": 11,
     "metadata": {},
     "output_type": "execute_result"
    }
   ],
   "source": [
    "1 / problem6_best_chromsome_fitness"
   ]
  },
  {
   "cell_type": "markdown",
   "metadata": {},
   "source": [
    "# Problem No. 7\n",
    "The goal is to maximize the demands of customers with parametes below\n",
    "- There are three depots in the locations `(44, -41)`, `(-24, -8)`, `(-33, 30)`, `(10, 43)`\n",
    "- There are `10` vehicles\n",
    "- Maximum distace each vehicle can go is `250` Km\n",
    "- The locations of the customers and their demands are in `P7.txt` file\n",
    "- The capacity is not limited for vehicles"
   ]
  },
  {
   "cell_type": "code",
   "execution_count": 12,
   "metadata": {},
   "outputs": [],
   "source": [
    "p7_data = pd.read_csv('data/P7.txt', delimiter=' ')\n",
    "DEPOT_LOCATIONS_dict = {\n",
    "    '(1)': (44, -41),\n",
    "    '(2)': (-24, -8),\n",
    "    '(3)': (-33, 30),\n",
    "    '(4)': (10, 43)\n",
    "}"
   ]
  },
  {
   "cell_type": "code",
   "execution_count": 14,
   "metadata": {},
   "outputs": [
    {
     "name": "stdout",
     "output_type": "stream",
     "text": [
      "Generation Count: 0, Evaluations number: 50\n",
      "Generation Count: 1, Evaluations number: 150\n",
      "Generation Count: 2, Evaluations number: 250\n"
     ]
    },
    {
     "data": {
      "text/plain": [
       "('(2)164125238101248188122198105260280201230254150217127140167(2)|(2)278232110299107128(2)|(2)210169247270(2)|(2)216292245249244226214241149120103276179182185121108237297(2)|(2)',\n",
       " 0.00019908421262193908)"
      ]
     },
     "execution_count": 14,
     "metadata": {},
     "output_type": "execute_result"
    }
   ],
   "source": [
    "problem7_best_chromsome, problem7_best_chromsome_fitness = algorithm_run(pop_count = 50, \n",
    "                dataset=p7_data,\n",
    "                depot_location_dict= DEPOT_LOCATIONS_dict,\n",
    "                max_capacity=None, \n",
    "                max_distance=250,\n",
    "                vehicle_count=10, \n",
    "                selection_method=binary_tournament,\n",
    "                FITNESS_FUNCTION=evaluate_fitness_customers_served_demands,\n",
    "                MUTATION_METHOD=mutation_scramble,\n",
    "                RECOMBINATION_METHOD=cut_and_crossfill,\n",
    "                max_evaluations=300)\n",
    "\n",
    "problem7_best_chromsome, problem7_best_chromsome_fitness"
   ]
  },
  {
   "cell_type": "code",
   "execution_count": 15,
   "metadata": {},
   "outputs": [
    {
     "data": {
      "text/plain": [
       "5023.0"
      ]
     },
     "execution_count": 15,
     "metadata": {},
     "output_type": "execute_result"
    }
   ],
   "source": [
    "1 / problem7_best_chromsome_fitness"
   ]
  },
  {
   "cell_type": "markdown",
   "metadata": {},
   "source": [
    "# Problem No. 8\n",
    "**The same as problem 4, and the fitness function is left todo**"
   ]
  },
  {
   "cell_type": "code",
   "execution_count": 10,
   "metadata": {},
   "outputs": [],
   "source": [
    "p8_data = pd.read_csv('data/P8.txt', delimiter=' ')\n",
    "DEPOT_LOCATIONS_dict = {\n",
    "    '(1)': (8, 17),\n",
    "    '(2)': (31, -42),\n",
    "    '(3)': (-6, -22),\n",
    "    '(4)': (15, -10),\n",
    "    '(5)': (-27, 43)\n",
    "}"
   ]
  },
  {
   "cell_type": "code",
   "execution_count": 11,
   "metadata": {},
   "outputs": [
    {
     "name": "stdout",
     "output_type": "stream",
     "text": [
      "Generation Count: 0, Evaluations number: 50\n",
      "Generation Count: 1, Evaluations number: 150\n",
      "Generation Count: 2, Evaluations number: 250\n",
      "Generation Count: 3, Evaluations number: 350\n",
      "Generation Count: 4, Evaluations number: 450\n"
     ]
    },
    {
     "data": {
      "text/plain": [
       "('(1)238191160109163156110144126193183219205174170229137140177184120117178212194133131206196240204169101111161195(1)|(1)162134(1)|(1)207227130132154119239249136215246222173199214226118112172208245209151223185(1)|(1)139(1)',\n",
       " 6.34375)"
      ]
     },
     "execution_count": 11,
     "metadata": {},
     "output_type": "execute_result"
    }
   ],
   "source": [
    "problem8_best_chromsome, problem8_best_chromsome_fitness = algorithm_run(pop_count = 50, \n",
    "                dataset=p8_data,\n",
    "                depot_location_dict= DEPOT_LOCATIONS_dict,\n",
    "                max_capacity=None, \n",
    "                max_distance=200,\n",
    "                vehicle_count=None, \n",
    "                selection_method=binary_tournament,\n",
    "                FITNESS_FUNCTION=evaluate_fitness_vehicle_count,\n",
    "                MUTATION_METHOD=mutation_scramble,\n",
    "                RECOMBINATION_METHOD=cut_and_crossfill,\n",
    "                max_evaluations=500)\n",
    "\n",
    "problem4_best_chromsome, problem4_best_chromsome_fitness"
   ]
  },
  {
   "cell_type": "markdown",
   "metadata": {},
   "source": [
    "# Problem No. 9\n",
    "The goal is to minimum the distance gone as the Problems 2 and 5 but the difference is that the vehicle can go and back to another depot, and start from that depot! "
   ]
  },
  {
   "cell_type": "code",
   "execution_count": null,
   "metadata": {},
   "outputs": [],
   "source": []
  }
 ],
 "metadata": {
  "kernelspec": {
   "display_name": "Python 3 (ipykernel)",
   "language": "python",
   "name": "python3"
  },
  "language_info": {
   "codemirror_mode": {
    "name": "ipython",
    "version": 3
   },
   "file_extension": ".py",
   "mimetype": "text/x-python",
   "name": "python",
   "nbconvert_exporter": "python",
   "pygments_lexer": "ipython3",
   "version": "3.10.6"
  },
  "vscode": {
   "interpreter": {
    "hash": "2b955d226d9aa9f90a51fa3f36ce22332332eca7b3eabee7dfc09f1063aca4ef"
   }
  }
 },
 "nbformat": 4,
 "nbformat_minor": 2
}
