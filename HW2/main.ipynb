{
 "cells": [
  {
   "cell_type": "code",
   "execution_count": 1,
   "metadata": {},
   "outputs": [],
   "source": [
    "import pandas as pd\n",
    "import numpy as np\n",
    "# import matplotlib.pyplot as plt\n",
    "# from sklearn.cluster import KMeans\n"
   ]
  },
  {
   "cell_type": "markdown",
   "metadata": {},
   "source": [
    "# Our functions import"
   ]
  },
  {
   "cell_type": "code",
   "execution_count": 2,
   "metadata": {},
   "outputs": [],
   "source": [
    "from generate_population_scripts import (generate_population,\n",
    "                                         evaluate_distance_fitness, \n",
    "                                         evaluate_fitness_customers,\n",
    "                                         get_evalution_count, \n",
    "                                         set_evaluation_count)\n",
    "from combination import cut_and_crossfill, mutation_inverse, mutation_scramble\n",
    "from selection import roulette_wheel, binary_tournament"
   ]
  },
  {
   "cell_type": "code",
   "execution_count": 3,
   "metadata": {},
   "outputs": [],
   "source": [
    "def algorithm_run(pop_count, dataset, depot_location_dict, depot_symbol, vehicle_count, selection_method, FITNESS_FUNCTION, MUTATION_METHOD, RECOMBINATION_METHOD, max_capacity=None, max_distance=None, p_m=0.1, p_c =0.9 ,max_evaluations = 5000):\n",
    "    \"\"\"\n",
    "    depot_symbol is just one string\n",
    "\n",
    "    one constraint should be always given as input, the maximum capacity or maximum distance\n",
    "    \"\"\"\n",
    "    ## reset the evaluation counts\n",
    "    set_evaluation_count(0)\n",
    "\n",
    "    population, fitness_pop = generate_population(max_capacity=max_capacity,\n",
    "                                                     max_distance=max_distance,\n",
    "                                                     DEPOT_LOCATION= depot_location_dict[depot_symbol],\n",
    "                                                     dataset=dataset, \n",
    "                                                     depot_symbol= depot_symbol, \n",
    "                                                     pop_count= pop_count,\n",
    "                                                     vehicle_count= vehicle_count, )\n",
    "    generation_count = 0\n",
    "\n",
    "    best_chromosome = None\n",
    "    best_chromsome_fitness = None\n",
    "\n",
    "    while get_evalution_count() < max_evaluations:\n",
    "        print(f'Generation Count: {generation_count}, Evaluations number: {get_evalution_count()}')\n",
    "        ## create pair of the parents\n",
    "        parent_pairs = []\n",
    "        for _ in range(pop_count):\n",
    "            pair = selection_method(population, fitness_pop)\n",
    "            parent_pairs.append(pair)\n",
    "\n",
    "        \n",
    "        offsprings = []\n",
    "        fitness_offsprings = []\n",
    "        for parents in parent_pairs:\n",
    "            recombination_p = np.random.random()\n",
    "\n",
    "            ## the offspring for this iteration\n",
    "            iteration_offspring = []\n",
    "            \n",
    "            ######## Recombination ########\n",
    "            if recombination_p < p_c:\n",
    "                offspring1, offspring2 =  RECOMBINATION_METHOD(parents[0], parents[1], dataset, max_capacity, max_distance, depot_location_dict[depot_symbol], [depot_symbol])\n",
    "\n",
    "                iteration_offspring = [offspring1, offspring2]\n",
    "\n",
    "            \n",
    "            ######## Mutation ########\n",
    "            mutation_p = np.random.random()\n",
    "\n",
    "            ## if cross over has happend\n",
    "            if len(iteration_offspring) != 0 and mutation_p < p_m:\n",
    "                offspring1 = MUTATION_METHOD(iteration_offspring[0], max_capacity, dataset, depot_location_dict[depot_symbol], max_distance, [depot_symbol])\n",
    "                offspring2 = MUTATION_METHOD(iteration_offspring[1], max_capacity, dataset, depot_location_dict[depot_symbol], max_distance, [depot_symbol])\n",
    "\n",
    "                iteration_offspring = [offspring1, offspring2]\n",
    "            ## if cross over had not happened\n",
    "            elif mutation_p < p_m:\n",
    "                offspring1 = MUTATION_METHOD(parents[0], max_capacity, dataset, depot_location_dict[depot_symbol], max_distance, [depot_symbol])\n",
    "                offspring2 = MUTATION_METHOD(parents[1], max_capacity, dataset, depot_location_dict[depot_symbol], max_distance, [depot_symbol])\n",
    "\n",
    "                iteration_offspring = [offspring1, offspring2]\n",
    "            ## if both cross over and mutation has not happened!\n",
    "            else:\n",
    "                iteration_offspring = [parents[0], parents[1]]\n",
    "            \n",
    "            ## finally append the genarated offsprings to offspring array \n",
    "            offsprings.append(iteration_offspring[0])\n",
    "            offsprings.append(iteration_offspring[1])\n",
    "\n",
    "            fitness_offsprings.append(FITNESS_FUNCTION(iteration_offspring[0], depot_location_dict[depot_symbol], dataset))\n",
    "            fitness_offsprings.append(FITNESS_FUNCTION(iteration_offspring[1], depot_location_dict[depot_symbol], dataset))\n",
    "\n",
    "        ## replace the old population with the new ones\n",
    "\n",
    "        ## the whole generation: parents + offsprings\n",
    "        generation_population = population.copy()\n",
    "        generation_population.extend(offsprings)\n",
    "\n",
    "        ## whole generation fitness: parents fitness + offsprings fitness\n",
    "        generation_fitness = fitness_pop.copy()\n",
    "        generation_fitness.extend(fitness_offsprings)\n",
    "\n",
    "        ## the sorted generation\n",
    "        generation_population_sorted = np.array(generation_population)[np.argsort(generation_fitness)]\n",
    "        generation_fitness_sorted = np.sort(generation_fitness)\n",
    "\n",
    "        ## Step 10\n",
    "        ## extract the best of the new generation\n",
    "\n",
    "        best_of_generation_population = generation_population_sorted[:pop_count]\n",
    "        best_of_generation_fitness = generation_fitness_sorted[:pop_count]\n",
    "\n",
    "        best_chromosome = generation_population_sorted[0]\n",
    "        best_chromsome_fitness = generation_fitness_sorted[0]\n",
    "\n",
    "        ## save them into the original population arrays\n",
    "        population = best_of_generation_population.tolist()\n",
    "        fitness_pop = best_of_generation_fitness.tolist()\n",
    "\n",
    "        ## increase the generation value\n",
    "        generation_count += 1\n",
    "    \n",
    "    return best_chromosome, best_chromsome_fitness"
   ]
  },
  {
   "cell_type": "markdown",
   "metadata": {},
   "source": [
    "# PROBLEM No. 1\n",
    "The goal is to minimize the distance gone, of the vehicles with the parameters below\n",
    "- There is 1 depot in the location `(-14, 9)`\n",
    "- There are `6` vehicles\n",
    "- Maximum Capacity is `70`\n",
    "- The locations of the customers and their demands are in `P1.txt` file\n",
    "- The distance each vehicle can go is not limited."
   ]
  },
  {
   "cell_type": "code",
   "execution_count": 4,
   "metadata": {},
   "outputs": [],
   "source": [
    "p1_data = pd.read_csv('data/P1.txt', delimiter=' ')\n",
    "DEPOT_LOCATION = (-14, 9)\n",
    "\n",
    "pop_arr = generate_population(70, DEPOT_LOCATION, p1_data)"
   ]
  },
  {
   "cell_type": "code",
   "execution_count": 6,
   "metadata": {},
   "outputs": [
    {
     "name": "stdout",
     "output_type": "stream",
     "text": [
      "Generation Count: 0, Evaluations number: 50\n",
      "Generation Count: 1, Evaluations number: 150\n",
      "Generation Count: 2, Evaluations number: 250\n",
      "Generation Count: 3, Evaluations number: 350\n",
      "Generation Count: 4, Evaluations number: 450\n",
      "Generation Count: 5, Evaluations number: 550\n",
      "Generation Count: 6, Evaluations number: 650\n",
      "Generation Count: 7, Evaluations number: 750\n",
      "Generation Count: 8, Evaluations number: 850\n",
      "Generation Count: 9, Evaluations number: 950\n",
      "Generation Count: 10, Evaluations number: 1050\n",
      "Generation Count: 11, Evaluations number: 1150\n",
      "Generation Count: 12, Evaluations number: 1250\n",
      "Generation Count: 13, Evaluations number: 1350\n",
      "Generation Count: 14, Evaluations number: 1450\n",
      "Generation Count: 15, Evaluations number: 1550\n",
      "Generation Count: 16, Evaluations number: 1650\n",
      "Generation Count: 17, Evaluations number: 1750\n",
      "Generation Count: 18, Evaluations number: 1850\n",
      "Generation Count: 19, Evaluations number: 1950\n",
      "Generation Count: 20, Evaluations number: 2050\n",
      "Generation Count: 21, Evaluations number: 2150\n",
      "Generation Count: 22, Evaluations number: 2250\n",
      "Generation Count: 23, Evaluations number: 2350\n",
      "Generation Count: 24, Evaluations number: 2450\n",
      "Generation Count: 25, Evaluations number: 2550\n",
      "Generation Count: 26, Evaluations number: 2650\n",
      "Generation Count: 27, Evaluations number: 2750\n",
      "Generation Count: 28, Evaluations number: 2850\n",
      "Generation Count: 29, Evaluations number: 2950\n",
      "Generation Count: 30, Evaluations number: 3050\n",
      "Generation Count: 31, Evaluations number: 3150\n",
      "Generation Count: 32, Evaluations number: 3250\n",
      "Generation Count: 33, Evaluations number: 3350\n",
      "Generation Count: 34, Evaluations number: 3450\n",
      "Generation Count: 35, Evaluations number: 3550\n",
      "Generation Count: 36, Evaluations number: 3650\n",
      "Generation Count: 37, Evaluations number: 3750\n",
      "Generation Count: 38, Evaluations number: 3850\n",
      "Generation Count: 39, Evaluations number: 3950\n",
      "Generation Count: 40, Evaluations number: 4050\n",
      "Generation Count: 41, Evaluations number: 4150\n",
      "Generation Count: 42, Evaluations number: 4250\n",
      "Generation Count: 43, Evaluations number: 4350\n",
      "Generation Count: 44, Evaluations number: 4450\n",
      "Generation Count: 45, Evaluations number: 4550\n",
      "Generation Count: 46, Evaluations number: 4650\n",
      "Generation Count: 47, Evaluations number: 4750\n",
      "Generation Count: 48, Evaluations number: 4850\n",
      "Generation Count: 49, Evaluations number: 4950\n"
     ]
    },
    {
     "data": {
      "text/plain": [
       "('(1)175195106101190(1)127188197168144182(1)|(1)169179139146(1)194132117129163157119(1)180166114107161(1)108104141154151(1)145109167112191126164(1)|(1)177140185142110(1)199143153124186(1)130178134128137123(1)162192131176183(1)|(1)149138158125(1)121122174120156(1)|(1)200193155115103(1)159165133105170198(1)173181184118196(1)|(1)111148135113(1)152172189102136(1)150187147116160171(1)',\n",
       " 6364)"
      ]
     },
     "execution_count": 6,
     "metadata": {},
     "output_type": "execute_result"
    }
   ],
   "source": [
    "problem1_best_chromsome, problem1_best_chromsome_fitness = algorithm_run(pop_count = 50, \n",
    "                dataset=p1_data,\n",
    "                depot_location_dict= {'(1)': DEPOT_LOCATION},\n",
    "                depot_symbol='(1)',\n",
    "                max_capacity=70, \n",
    "                vehicle_count=6, \n",
    "                max_distance=None,\n",
    "                selection_method=binary_tournament,\n",
    "                FITNESS_FUNCTION=evaluate_distance_fitness,\n",
    "                MUTATION_METHOD=mutation_scramble,\n",
    "                RECOMBINATION_METHOD=cut_and_crossfill,\n",
    "                max_evaluations=5000)\n",
    "\n",
    "problem1_best_chromsome, problem1_best_chromsome_fitness"
   ]
  },
  {
   "cell_type": "markdown",
   "metadata": {},
   "source": [
    "# Problem No. 2\n",
    "The goal is to maximize the customers recieved service with parametes below\n",
    "- There is 1 depot in the location `(0, 13)`\n",
    "- There are `4` vehicles\n",
    "- Maximum distace each vehicle can go is `200` Km\n",
    "- The locations of the customers and their demands are in `P2.txt` file\n",
    "- The capacity is not limited for vehicles"
   ]
  },
  {
   "cell_type": "code",
   "execution_count": 4,
   "metadata": {},
   "outputs": [],
   "source": [
    "p2_data = pd.read_csv('data/P2.txt', delimiter=' ')\n",
    "DEPOT_LOCATION = (0, 13)"
   ]
  },
  {
   "cell_type": "code",
   "execution_count": 5,
   "metadata": {},
   "outputs": [
    {
     "name": "stdout",
     "output_type": "stream",
     "text": [
      "Generation Count: 0, Evaluations number: 50\n",
      "Generation Count: 1, Evaluations number: 150\n",
      "Generation Count: 2, Evaluations number: 250\n",
      "Generation Count: 3, Evaluations number: 350\n",
      "Generation Count: 4, Evaluations number: 450\n",
      "Generation Count: 5, Evaluations number: 550\n",
      "Generation Count: 6, Evaluations number: 650\n",
      "Generation Count: 7, Evaluations number: 750\n",
      "Generation Count: 8, Evaluations number: 850\n",
      "Generation Count: 9, Evaluations number: 950\n",
      "Generation Count: 10, Evaluations number: 1050\n",
      "Generation Count: 11, Evaluations number: 1150\n",
      "Generation Count: 12, Evaluations number: 1250\n",
      "Generation Count: 13, Evaluations number: 1350\n",
      "Generation Count: 14, Evaluations number: 1450\n",
      "Generation Count: 15, Evaluations number: 1550\n",
      "Generation Count: 16, Evaluations number: 1650\n",
      "Generation Count: 17, Evaluations number: 1750\n",
      "Generation Count: 18, Evaluations number: 1850\n",
      "Generation Count: 19, Evaluations number: 1950\n",
      "Generation Count: 20, Evaluations number: 2050\n",
      "Generation Count: 21, Evaluations number: 2150\n",
      "Generation Count: 22, Evaluations number: 2250\n",
      "Generation Count: 23, Evaluations number: 2350\n",
      "Generation Count: 24, Evaluations number: 2450\n",
      "Generation Count: 25, Evaluations number: 2550\n",
      "Generation Count: 26, Evaluations number: 2650\n",
      "Generation Count: 27, Evaluations number: 2750\n",
      "Generation Count: 28, Evaluations number: 2850\n",
      "Generation Count: 29, Evaluations number: 2950\n",
      "Generation Count: 30, Evaluations number: 3050\n",
      "Generation Count: 31, Evaluations number: 3150\n",
      "Generation Count: 32, Evaluations number: 3250\n",
      "Generation Count: 33, Evaluations number: 3350\n",
      "Generation Count: 34, Evaluations number: 3450\n",
      "Generation Count: 35, Evaluations number: 3550\n",
      "Generation Count: 36, Evaluations number: 3650\n",
      "Generation Count: 37, Evaluations number: 3750\n",
      "Generation Count: 38, Evaluations number: 3850\n",
      "Generation Count: 39, Evaluations number: 3950\n",
      "Generation Count: 40, Evaluations number: 4050\n",
      "Generation Count: 41, Evaluations number: 4150\n",
      "Generation Count: 42, Evaluations number: 4250\n",
      "Generation Count: 43, Evaluations number: 4350\n",
      "Generation Count: 44, Evaluations number: 4450\n",
      "Generation Count: 45, Evaluations number: 4550\n",
      "Generation Count: 46, Evaluations number: 4650\n",
      "Generation Count: 47, Evaluations number: 4750\n",
      "Generation Count: 48, Evaluations number: 4850\n",
      "Generation Count: 49, Evaluations number: 4950\n"
     ]
    },
    {
     "data": {
      "text/plain": [
       "('(1)167127109123183141192144172194118113120(1)|(1)173169131152129132142176136105121151128103149157184177174189163102(1)|(1)198164148111185137110150168(1)|(1)158188199153125107191133138180186146162161179104155124197195175126200114143112(1)',\n",
       " 0.014285714285714285)"
      ]
     },
     "execution_count": 5,
     "metadata": {},
     "output_type": "execute_result"
    }
   ],
   "source": [
    "problem2_best_chromsome, problem2_best_chromsome_fitness = algorithm_run(pop_count = 50, \n",
    "                dataset=p2_data,\n",
    "                depot_location_dict= {'(1)': DEPOT_LOCATION},\n",
    "                depot_symbol='(1)',\n",
    "                max_capacity=None, \n",
    "                max_distance=200,\n",
    "                vehicle_count=4, \n",
    "                selection_method=binary_tournament,\n",
    "                FITNESS_FUNCTION=evaluate_fitness_customers,\n",
    "                MUTATION_METHOD=mutation_scramble,\n",
    "                RECOMBINATION_METHOD=cut_and_crossfill,\n",
    "                max_evaluations=5000)\n",
    "\n",
    "problem2_best_chromsome, problem2_best_chromsome_fitness"
   ]
  },
  {
   "cell_type": "code",
   "execution_count": 7,
   "metadata": {},
   "outputs": [
    {
     "data": {
      "text/plain": [
       "70.0"
      ]
     },
     "execution_count": 7,
     "metadata": {},
     "output_type": "execute_result"
    }
   ],
   "source": [
    "## the number of customers reponded\n",
    "1 / problem2_best_chromsome_fitness"
   ]
  },
  {
   "cell_type": "code",
   "execution_count": null,
   "metadata": {},
   "outputs": [],
   "source": []
  },
  {
   "cell_type": "code",
   "execution_count": null,
   "metadata": {},
   "outputs": [],
   "source": []
  }
 ],
 "metadata": {
  "kernelspec": {
   "display_name": "Python 3 (ipykernel)",
   "language": "python",
   "name": "python3"
  },
  "language_info": {
   "codemirror_mode": {
    "name": "ipython",
    "version": 3
   },
   "file_extension": ".py",
   "mimetype": "text/x-python",
   "name": "python",
   "nbconvert_exporter": "python",
   "pygments_lexer": "ipython3",
   "version": "3.10.6"
  },
  "vscode": {
   "interpreter": {
    "hash": "2b955d226d9aa9f90a51fa3f36ce22332332eca7b3eabee7dfc09f1063aca4ef"
   }
  }
 },
 "nbformat": 4,
 "nbformat_minor": 2
}
