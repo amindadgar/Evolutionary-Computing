{
 "cells": [
  {
   "cell_type": "code",
   "execution_count": 1,
   "metadata": {},
   "outputs": [],
   "source": [
    "import pandas as pd\n",
    "import numpy as np\n",
    "import matplotlib.pyplot as plt\n",
    "from sklearn.cluster import KMeans\n",
    "import random"
   ]
  },
  {
   "cell_type": "code",
   "execution_count": 2,
   "metadata": {},
   "outputs": [],
   "source": [
    "p1_data = pd.read_csv('data/P1.txt', delimiter=' ')"
   ]
  },
  {
   "cell_type": "code",
   "execution_count": 3,
   "metadata": {},
   "outputs": [
    {
     "data": {
      "text/html": [
       "<div>\n",
       "<style scoped>\n",
       "    .dataframe tbody tr th:only-of-type {\n",
       "        vertical-align: middle;\n",
       "    }\n",
       "\n",
       "    .dataframe tbody tr th {\n",
       "        vertical-align: top;\n",
       "    }\n",
       "\n",
       "    .dataframe thead th {\n",
       "        text-align: right;\n",
       "    }\n",
       "</style>\n",
       "<table border=\"1\" class=\"dataframe\">\n",
       "  <thead>\n",
       "    <tr style=\"text-align: right;\">\n",
       "      <th></th>\n",
       "      <th>number</th>\n",
       "      <th>x</th>\n",
       "      <th>y</th>\n",
       "      <th>demand</th>\n",
       "    </tr>\n",
       "  </thead>\n",
       "  <tbody>\n",
       "    <tr>\n",
       "      <th>0</th>\n",
       "      <td>1</td>\n",
       "      <td>34</td>\n",
       "      <td>-11</td>\n",
       "      <td>17</td>\n",
       "    </tr>\n",
       "    <tr>\n",
       "      <th>1</th>\n",
       "      <td>2</td>\n",
       "      <td>29</td>\n",
       "      <td>-35</td>\n",
       "      <td>17</td>\n",
       "    </tr>\n",
       "    <tr>\n",
       "      <th>2</th>\n",
       "      <td>3</td>\n",
       "      <td>15</td>\n",
       "      <td>0</td>\n",
       "      <td>10</td>\n",
       "    </tr>\n",
       "    <tr>\n",
       "      <th>3</th>\n",
       "      <td>4</td>\n",
       "      <td>-20</td>\n",
       "      <td>-24</td>\n",
       "      <td>4</td>\n",
       "    </tr>\n",
       "    <tr>\n",
       "      <th>4</th>\n",
       "      <td>5</td>\n",
       "      <td>-8</td>\n",
       "      <td>-21</td>\n",
       "      <td>7</td>\n",
       "    </tr>\n",
       "    <tr>\n",
       "      <th>...</th>\n",
       "      <td>...</td>\n",
       "      <td>...</td>\n",
       "      <td>...</td>\n",
       "      <td>...</td>\n",
       "    </tr>\n",
       "    <tr>\n",
       "      <th>95</th>\n",
       "      <td>96</td>\n",
       "      <td>-24</td>\n",
       "      <td>8</td>\n",
       "      <td>13</td>\n",
       "    </tr>\n",
       "    <tr>\n",
       "      <th>96</th>\n",
       "      <td>97</td>\n",
       "      <td>32</td>\n",
       "      <td>-33</td>\n",
       "      <td>17</td>\n",
       "    </tr>\n",
       "    <tr>\n",
       "      <th>97</th>\n",
       "      <td>98</td>\n",
       "      <td>15</td>\n",
       "      <td>21</td>\n",
       "      <td>14</td>\n",
       "    </tr>\n",
       "    <tr>\n",
       "      <th>98</th>\n",
       "      <td>99</td>\n",
       "      <td>-16</td>\n",
       "      <td>35</td>\n",
       "      <td>15</td>\n",
       "    </tr>\n",
       "    <tr>\n",
       "      <th>99</th>\n",
       "      <td>100</td>\n",
       "      <td>15</td>\n",
       "      <td>-28</td>\n",
       "      <td>6</td>\n",
       "    </tr>\n",
       "  </tbody>\n",
       "</table>\n",
       "<p>100 rows × 4 columns</p>\n",
       "</div>"
      ],
      "text/plain": [
       "    number   x   y  demand\n",
       "0        1  34 -11      17\n",
       "1        2  29 -35      17\n",
       "2        3  15   0      10\n",
       "3        4 -20 -24       4\n",
       "4        5  -8 -21       7\n",
       "..     ...  ..  ..     ...\n",
       "95      96 -24   8      13\n",
       "96      97  32 -33      17\n",
       "97      98  15  21      14\n",
       "98      99 -16  35      15\n",
       "99     100  15 -28       6\n",
       "\n",
       "[100 rows x 4 columns]"
      ]
     },
     "execution_count": 3,
     "metadata": {},
     "output_type": "execute_result"
    }
   ],
   "source": [
    "p1_data"
   ]
  },
  {
   "cell_type": "code",
   "execution_count": 12,
   "metadata": {},
   "outputs": [
    {
     "data": {
      "image/png": "[encoded data removed]",
      "text/plain": [
       "<Figure size 576x360 with 1 Axes>"
      ]
     },
     "metadata": {
      "needs_background": "light"
     },
     "output_type": "display_data"
    }
   ],
   "source": [
    "plt.figure(figsize=(8,5))\n",
    "plt.scatter(p1_data.x, p1_data.y)\n",
    "plt.grid(visible=True)\n",
    "plt.show()"
   ]
  },
  {
   "cell_type": "code",
   "execution_count": 13,
   "metadata": {},
   "outputs": [
    {
     "data": {
      "text/html": [
       "<style>#sk-container-id-1 {color: black;background-color: white;}#sk-container-id-1 pre{padding: 0;}#sk-container-id-1 div.sk-toggleable {background-color: white;}#sk-container-id-1 label.sk-toggleable__label {cursor: pointer;display: block;width: 100%;margin-bottom: 0;padding: 0.3em;box-sizing: border-box;text-align: center;}#sk-container-id-1 label.sk-toggleable__label-arrow:before {content: \"▸\";float: left;margin-right: 0.25em;color: #696969;}#sk-container-id-1 label.sk-toggleable__label-arrow:hover:before {color: black;}#sk-container-id-1 div.sk-estimator:hover label.sk-toggleable__label-arrow:before {color: black;}#sk-container-id-1 div.sk-toggleable__content {max-height: 0;max-width: 0;overflow: hidden;text-align: left;background-color: #f0f8ff;}#sk-container-id-1 div.sk-toggleable__content pre {margin: 0.2em;color: black;border-radius: 0.25em;background-color: #f0f8ff;}#sk-container-id-1 input.sk-toggleable__control:checked~div.sk-toggleable__content {max-height: 200px;max-width: 100%;overflow: auto;}#sk-container-id-1 input.sk-toggleable__control:checked~label.sk-toggleable__label-arrow:before {content: \"▾\";}#sk-container-id-1 div.sk-estimator input.sk-toggleable__control:checked~label.sk-toggleable__label {background-color: #d4ebff;}#sk-container-id-1 div.sk-label input.sk-toggleable__control:checked~label.sk-toggleable__label {background-color: #d4ebff;}#sk-container-id-1 input.sk-hidden--visually {border: 0;clip: rect(1px 1px 1px 1px);clip: rect(1px, 1px, 1px, 1px);height: 1px;margin: -1px;overflow: hidden;padding: 0;position: absolute;width: 1px;}#sk-container-id-1 div.sk-estimator {font-family: monospace;background-color: #f0f8ff;border: 1px dotted black;border-radius: 0.25em;box-sizing: border-box;margin-bottom: 0.5em;}#sk-container-id-1 div.sk-estimator:hover {background-color: #d4ebff;}#sk-container-id-1 div.sk-parallel-item::after {content: \"\";width: 100%;border-bottom: 1px solid gray;flex-grow: 1;}#sk-container-id-1 div.sk-label:hover label.sk-toggleable__label {background-color: #d4ebff;}#sk-container-id-1 div.sk-serial::before {content: \"\";position: absolute;border-left: 1px solid gray;box-sizing: border-box;top: 0;bottom: 0;left: 50%;z-index: 0;}#sk-container-id-1 div.sk-serial {display: flex;flex-direction: column;align-items: center;background-color: white;padding-right: 0.2em;padding-left: 0.2em;position: relative;}#sk-container-id-1 div.sk-item {position: relative;z-index: 1;}#sk-container-id-1 div.sk-parallel {display: flex;align-items: stretch;justify-content: center;background-color: white;position: relative;}#sk-container-id-1 div.sk-item::before, #sk-container-id-1 div.sk-parallel-item::before {content: \"\";position: absolute;border-left: 1px solid gray;box-sizing: border-box;top: 0;bottom: 0;left: 50%;z-index: -1;}#sk-container-id-1 div.sk-parallel-item {display: flex;flex-direction: column;z-index: 1;position: relative;background-color: white;}#sk-container-id-1 div.sk-parallel-item:first-child::after {align-self: flex-end;width: 50%;}#sk-container-id-1 div.sk-parallel-item:last-child::after {align-self: flex-start;width: 50%;}#sk-container-id-1 div.sk-parallel-item:only-child::after {width: 0;}#sk-container-id-1 div.sk-dashed-wrapped {border: 1px dashed gray;margin: 0 0.4em 0.5em 0.4em;box-sizing: border-box;padding-bottom: 0.4em;background-color: white;}#sk-container-id-1 div.sk-label label {font-family: monospace;font-weight: bold;display: inline-block;line-height: 1.2em;}#sk-container-id-1 div.sk-label-container {text-align: center;}#sk-container-id-1 div.sk-container {/* jupyter's `normalize.less` sets `[hidden] { display: none; }` but bootstrap.min.css set `[hidden] { display: none !important; }` so we also need the `!important` here to be able to override the default hidden behavior on the sphinx rendered scikit-learn.org. See: https://github.com/scikit-learn/scikit-learn/issues/21755 */display: inline-block !important;position: relative;}#sk-container-id-1 div.sk-text-repr-fallback {display: none;}</style><div id=\"sk-container-id-1\" class=\"sk-top-container\"><div class=\"sk-text-repr-fallback\"><pre>KMeans(n_clusters=6)</pre><b>In a Jupyter environment, please rerun this cell to show the HTML representation or trust the notebook. <br />On GitHub, the HTML representation is unable to render, please try loading this page with nbviewer.org.</b></div><div class=\"sk-container\" hidden><div class=\"sk-item\"><div class=\"sk-estimator sk-toggleable\"><input class=\"sk-toggleable__control sk-hidden--visually\" id=\"sk-estimator-id-1\" type=\"checkbox\" checked><label for=\"sk-estimator-id-1\" class=\"sk-toggleable__label sk-toggleable__label-arrow\">KMeans</label><div class=\"sk-toggleable__content\"><pre>KMeans(n_clusters=6)</pre></div></div></div></div></div>"
      ],
      "text/plain": [
       "KMeans(n_clusters=6)"
      ]
     },
     "execution_count": 13,
     "metadata": {},
     "output_type": "execute_result"
    }
   ],
   "source": [
    "model = KMeans(n_clusters=6)\n",
    "model.fit(p1_data[['x', 'y']])"
   ]
  },
  {
   "cell_type": "code",
   "execution_count": 14,
   "metadata": {},
   "outputs": [],
   "source": [
    "pred_cluster = model.predict(p1_data[['x', 'y']])"
   ]
  },
  {
   "cell_type": "code",
   "execution_count": 18,
   "metadata": {},
   "outputs": [],
   "source": [
    "p1_data['cluster'] = pred_cluster"
   ]
  },
  {
   "cell_type": "code",
   "execution_count": 19,
   "metadata": {},
   "outputs": [
    {
     "data": {
      "text/plain": [
       "<matplotlib.collections.PathCollection at 0x1d4acab7e80>"
      ]
     },
     "execution_count": 19,
     "metadata": {},
     "output_type": "execute_result"
    },
    {
     "data": {
      "image/png": "[encoded data removed]",
      "text/plain": [
       "<Figure size 432x288 with 1 Axes>"
      ]
     },
     "metadata": {
      "needs_background": "light"
     },
     "output_type": "display_data"
    }
   ],
   "source": [
    "for cluster in p1_data.cluster.unique():\n",
    "    plt.scatter(p1_data[p1_data.cluster == cluster].x, p1_data[p1_data.cluster == cluster].y)\n",
    "plt.scatter(0, 0, marker='^', c='k')"
   ]
  },
  {
   "cell_type": "code",
   "execution_count": 40,
   "metadata": {},
   "outputs": [],
   "source": [
    "## to produce gene\n",
    "\n",
    "MAX_CAPACITY = 70\n",
    "pop = []\n",
    "\n",
    "## create 10 choromosome\n",
    "for cluster in p1_data.cluster.unique():\n",
    "    gene = ''\n",
    "    capacity = 0\n",
    "    for _, data in p1_data[p1_data.cluster == cluster].iterrows():\n",
    "        capacity += data.demand\n",
    "        ## if couldn't carry item, return to depot\n",
    "        if capacity >= MAX_CAPACITY:\n",
    "            gene += '*'\n",
    "            ## reset the capacity\n",
    "            capacity = 0\n",
    "        else:\n",
    "            gene += str(data.number + 100)\n",
    "    ## return to depot\n",
    "    gene += '*'\n",
    "    pop.append(gene)"
   ]
  },
  {
   "cell_type": "code",
   "execution_count": 11,
   "metadata": {},
   "outputs": [],
   "source": [
    "def without_replacement_sampling(array):\n",
    "    sampled_value = random.sample(array, 1)\n",
    "    array.remove(sampled_value[0])\n",
    "\n",
    "    return sampled_value[0]"
   ]
  },
  {
   "cell_type": "code",
   "execution_count": 16,
   "metadata": {},
   "outputs": [],
   "source": []
  },
  {
   "cell_type": "code",
   "execution_count": 107,
   "metadata": {},
   "outputs": [],
   "source": [
    "def generate_chromosomes_count(dataset, MAX_CAPACITY, pop_count=6, depot_symbol='(1)'):\n",
    "    \"\"\"\n",
    "    Generate chromosomes of vehicles from 100 data point (data points are summed with 100 in order to be able to know whether the genes in chromosome )\n",
    "    generate chromosomes with population count\n",
    "    \"\"\"\n",
    "\n",
    "    population = []\n",
    "\n",
    "    arr = np.linspace(1, 100, 100, dtype=int)\n",
    "    arr = list(arr)\n",
    "\n",
    "    gene_length = (len(arr) // pop_count) + 3\n",
    "\n",
    "    # while len(arr) > 0:\n",
    "    for pop_idx in range(pop_count):\n",
    "        gene = depot_symbol\n",
    "        capacity = 0\n",
    "\n",
    "        i = 0\n",
    "        while i < gene_length:\n",
    "            # if len(arr) == 0:\n",
    "            #     break\n",
    "\n",
    "            customer_number = without_replacement_sampling(arr)\n",
    "            data = dataset[dataset.number == customer_number]\n",
    "            capacity += data.demand.values[0]\n",
    "\n",
    "            ## if couldn't carry item, return to depot\n",
    "            if capacity >= MAX_CAPACITY:\n",
    "                gene += depot_symbol\n",
    "                ## reset the capacity\n",
    "                capacity = 0\n",
    "\n",
    "                ## bring back the customer to our array\n",
    "                ## since we haven't used it\n",
    "                arr.append(data.number.values[0])\n",
    "\n",
    "            else:\n",
    "                gene += str(data.number.values[0] + 100) \n",
    "            i+=1\n",
    "        gene += depot_symbol if gene[-3:] != depot_symbol else ''\n",
    "        print(gene)\n",
    "        population.append(gene)\n",
    "    print(arr)\n",
    "    \n",
    "    return population"
   ]
  },
  {
   "cell_type": "code",
   "execution_count": 119,
   "metadata": {},
   "outputs": [
    {
     "name": "stdout",
     "output_type": "stream",
     "text": [
      "(1)136134101133151(1)104192182109183113(1)164149118(1)181165(1)\n",
      "(1)168195200155147196166(1)146105103175108126(1)129172131160(1)\n",
      "(1)158171188197122(1)162111154194(1)150121179189(1)173185190(1)\n",
      "(1)132163152170191139(1)157184144123143187145(1)193198148(1)\n",
      "(1)120110112124180(1)153117167138115(1)137161130106114(1)119(1)\n",
      "(1)141135169125(1)142156174178140(1)127102107176199(1)177116(1)\n",
      "[28, 86, 59]\n"
     ]
    }
   ],
   "source": [
    "population_U = generate_chromosomes_count(p1_data, MAX_CAPACITY=70)\n"
   ]
  },
  {
   "cell_type": "code",
   "execution_count": 167,
   "metadata": {},
   "outputs": [
    {
     "data": {
      "text/plain": [
       "'136134101133151104192182109183113164149118181165168195200155147196166146105103175108126129172131160158171188197122162111154194150121179189173185190132163152170191139157184144123143187145193198148120110112124180153117167138115137161130106114119141135169125142156174178140127102107176199177116'"
      ]
     },
     "execution_count": 167,
     "metadata": {},
     "output_type": "execute_result"
    }
   ],
   "source": [
    "All_pop = ''\n",
    "for chromosome in population_U:\n",
    "    All_pop += chromosome.replace('(1)', '')\n",
    "All_pop"
   ]
  },
  {
   "cell_type": "code",
   "execution_count": 168,
   "metadata": {},
   "outputs": [],
   "source": [
    "dataset = p1_data\n",
    "capacity = 0\n",
    "depot_symbol = '(1)'\n",
    "processed_chromsomes = depot_symbol\n",
    "i = 3\n",
    "# for i in range(0, len(All_pop), 3):\n",
    "while i < len(All_pop):\n",
    "    # if All_pop[i-3: i]:\n",
    "    # print()\n",
    "    customer = int(All_pop[i-3: i]) - 100\n",
    "    \n",
    "    capacity += p1_data[p1_data.number == customer].demand.values[0]\n",
    "    if capacity > 70:\n",
    "        processed_chromsomes += depot_symbol\n",
    "        capacity = 0\n",
    "    else:\n",
    "        processed_chromsomes += All_pop[i-3:i]\n",
    "        i += 3\n",
    "\n",
    "processed_chromsomes += depot_symbol"
   ]
  },
  {
   "cell_type": "code",
   "execution_count": 177,
   "metadata": {},
   "outputs": [
    {
     "name": "stdout",
     "output_type": "stream",
     "text": [
      "[0, 0, 0, 0, 0, 0, 0, 0, 0, 0, 0, 0, 0, 0, 0, 0, 0, 0, 0, 0, 0, 21, 0, 0, 0, 0, 0, 0, 0, 0, 0, 0, 0, 0, 0, 0, 0, 0, 0, 0, 0, 0, 42, 0, 0, 0, 0, 0, 0, 0, 0, 0, 0, 0, 54, 0, 0, 0, 0, 0, 0, 0, 0, 0, 0, 0, 0, 0, 0, 0, 0, 0, 0, 0, 0, 0, 0, 0, 78, 0, 0, 0, 0, 0, 0, 0, 0, 0, 0, 0, 0, 0, 0, 0, 0, 0, 0, 0, 0, 0, 0, 0, 102, 0, 0, 0, 0, 0, 0, 0, 0, 0, 0, 0, 0, 0, 0, 0, 0, 0, 0, 0, 0, 0, 0, 0, 0, 0, 0, 129, 0, 0, 0, 0, 0, 0, 0, 0, 0, 0, 0, 0, 0, 0, 144, 0, 0, 0, 0, 0, 0, 0, 0, 0, 0, 0, 0, 0, 0, 159, 0, 0, 0, 0, 0, 0, 0, 0, 0, 0, 0, 0, 0, 0, 0, 0, 0, 0, 0, 0, 180, 0, 0, 0, 0, 0, 0, 0, 0, 0, 0, 0, 0, 0, 0, 0, 0, 0, 0, 0, 0, 201, 0, 0, 0, 0, 0, 0, 0, 0, 0, 0, 0, 0, 0, 0, 0, 0, 0, 219, 0, 0, 0, 0, 0, 0, 0, 0, 0, 0, 0, 231, 0, 0, 0, 0, 0, 0, 0, 0, 0, 0, 0, 0, 0, 0, 0, 0, 0, 249, 0, 0, 0, 0, 0, 0, 0, 0, 0, 0, 0, 0, 0, 0, 0, 0, 0, 267, 0, 0, 0, 0, 0, 0, 0, 0, 0, 0, 0, 0, 0, 0, 0, 0, 0, 285, 0, 0, 0, 0, 0, 0, 0, 0, 0, 0, 0, 0, 0, 0, 300, 0, 0, 0, 0, 0, 0, 0, 0, 0, 0, 0, 0, 0, 0, 0, 0, 0, 318, 0, 0, 0, 0, 0, 0, 0, 0, 0, 0, 0, 0, 0, 0, 0, 0, 0, 336, 0, 0, 0, 0, 0, 0, 0, 0, 345, 0, 0]\n"
     ]
    }
   ],
   "source": [
    "print([idx if c == '(' else 0 for idx, c in enumerate(processed_chromsomes)])"
   ]
  },
  {
   "cell_type": "code",
   "execution_count": null,
   "metadata": {},
   "outputs": [],
   "source": []
  },
  {
   "cell_type": "code",
   "execution_count": 160,
   "metadata": {},
   "outputs": [],
   "source": [
    "vehicle_count = 6\n",
    "chromsome_vehicle = ''\n",
    "for i in range(0, len(processed_chromsomes), step):\n",
    "    chromsome_vehicle += processed_chromsomes[i-step: i] + '|'"
   ]
  },
  {
   "cell_type": "code",
   "execution_count": 161,
   "metadata": {},
   "outputs": [
    {
     "data": {
      "text/plain": [
       "'|(1)136134101133151104(1)192182109183113164(1)149118181(1)1|65168195200155147196(1)166146105103175108126(1)12917213116|0158171188197(1)122162111154(1)194150121179(1)189173185190|132163(1)152170191139157184(1)144123143187145(1)193198148(|1)120110112124180(1)153117167138115(1)137161130106114(1)11|'"
      ]
     },
     "execution_count": 161,
     "metadata": {},
     "output_type": "execute_result"
    }
   ],
   "source": [
    "chromsome_vehicle"
   ]
  },
  {
   "cell_type": "code",
   "execution_count": 19,
   "metadata": {},
   "outputs": [
    {
     "data": {
      "text/plain": [
       "['(1)114189157186168135(1)',\n",
       " '(1)147193200131(1)174140(1)',\n",
       " '(1)179143125(1)107199106(1)',\n",
       " '(1)116126184188104(1)138(1)',\n",
       " '(1)124142156155185(1)110(1)',\n",
       " '(1)172190105101122177(1)',\n",
       " '(1)154164119163150(1)118(1)',\n",
       " '(1)112121128191144117(1)',\n",
       " '(1)195139141160(1)192130(1)',\n",
       " '(1)145132198151153(1)134(1)',\n",
       " '(1)197176109161(1)162166(1)',\n",
       " '(1)196178194169115(1)165(1)',\n",
       " '(1)158127123(1)187152111(1)',\n",
       " '(1)148146149120183(1)167(1)',\n",
       " '(1)170173159133102175(1)',\n",
       " '(1)181113171103129(1)182(1)',\n",
       " '(1)137108136180(1)']"
      ]
     },
     "execution_count": 19,
     "metadata": {},
     "output_type": "execute_result"
    }
   ],
   "source": [
    "population = generate_vehicles_chromosomes(p1_data, 70, gene_length=6, depot_symbol='(1)')\n",
    "\n",
    "def append_vehicles(population):\n",
    "    \"\"\"\n",
    "    Append the vehicles' chromosomes together and create a bigger chromosome\n",
    "    \"\"\"\n",
    "    string_vehicles = ''\n",
    "    for pop in population:\n",
    "        string_vehicles += pop\n",
    "    \n",
    "    return string_vehicles"
   ]
  },
  {
   "cell_type": "code",
   "execution_count": 83,
   "metadata": {},
   "outputs": [
    {
     "name": "stdout",
     "output_type": "stream",
     "text": [
      "0   17.0\n",
      "1   15.0\n",
      "2   16.0\n",
      "3   17.0\n",
      "4   17.0\n",
      "5   16.0\n"
     ]
    },
    {
     "data": {
      "text/plain": [
       "98.0"
      ]
     },
     "execution_count": 83,
     "metadata": {},
     "output_type": "execute_result"
    }
   ],
   "source": [
    "tot = 0\n",
    "for idx, pop in enumerate(population_U):\n",
    "    chromosome = pop.replace('(1)', '')\n",
    "    pop_len = len(chromosome)\n",
    "    \n",
    "    print(idx, ' ', pop_len/3)\n",
    "    tot += pop_len/3\n",
    "tot"
   ]
  },
  {
   "cell_type": "code",
   "execution_count": 490,
   "metadata": {},
   "outputs": [],
   "source": [
    "def evaluate_distances_gone(chromosome, dataset, DEPOT_LOCATION, depot_symbol='(1)'):\n",
    "    \"\"\"\n",
    "    evaluate one chromosome by the distance it has went, here just one depot is assumed here!\n",
    "    \"\"\"\n",
    "    chromosome_length = len(chromosome)\n",
    "\n",
    "    last_X_loc, last_Y_loc = DEPOT_LOCATION\n",
    "\n",
    "    distance = 0\n",
    "    for i in range(1, chromosome_length, 3):\n",
    "        if chromosome[i-3:i] and chromosome[i-3:i] != depot_symbol:\n",
    "            customer_number = int(chromosome[i-3:i]) - 100\n",
    "            customer = dataset[dataset.number == customer_number]\n",
    "            \n",
    "            customer_X = customer.x.values[0]\n",
    "            customer_Y = customer.y.values[0]\n",
    "\n",
    "\n",
    "            distance += abs(customer_X - last_X_loc) + abs(customer_Y - last_Y_loc)\n",
    "            last_X_loc = customer_X\n",
    "            last_Y_loc = customer_Y\n",
    "        ## if it goes back to the depot\n",
    "        elif chromosome[i-3:i] and chromosome[i-3:i] == depot_symbol:\n",
    "            distance += abs(last_X_loc - DEPOT_LOCATION[0]) + abs(last_Y_loc - DEPOT_LOCATION[1]) \n",
    "        \n",
    "    ## We know always the vehicle goes back to the depot, So the distance to the depot must be included\n",
    "    distance += abs(last_X_loc - DEPOT_LOCATION[0]) + abs(last_Y_loc - DEPOT_LOCATION[1]) \n",
    "\n",
    "    return distance"
   ]
  },
  {
   "cell_type": "code",
   "execution_count": 344,
   "metadata": {},
   "outputs": [],
   "source": [
    "def evaluate_fitness_distance(chromosomes_arr, dataset, DEPOT_LOCATION, depot_symbol='(1)'):\n",
    "    \"\"\"\n",
    "    Evaluate fitness values of multiple chromosomes using the distance metric\n",
    "    \n",
    "    Parameters:\n",
    "    ------------\n",
    "    chromosome_arr : array of strings\n",
    "        the chromosomes created as the genotypes\n",
    "    dataset : dataframe\n",
    "        the dataframe that contains the information location of each customer -> (x,y)\n",
    "    DEPOT_LOCATION : tuple\n",
    "        the starting and ending location of each vehicle\n",
    "    \n",
    "    Returns:\n",
    "    ---------\n",
    "    fitness_arr : array of integers\n",
    "        the fitness value based on the distance gone for all the population\n",
    "    \"\"\"\n",
    "    fitness_arr = []\n",
    "    for chromosome in  chromosomes_arr:\n",
    "        fitness = evaluate_distances_gone(chromosome, dataset, DEPOT_LOCATION, depot_symbol)\n",
    "        fitness_arr.append(fitness)\n",
    "    \n",
    "    return fitness_arr"
   ]
  },
  {
   "cell_type": "code",
   "execution_count": 498,
   "metadata": {},
   "outputs": [],
   "source": [
    "DEPOT_LOCATION = (-14, 9)\n",
    "# evaluate_fitness_distance(population, p1_data, DEPOT_LOCATION )"
   ]
  },
  {
   "cell_type": "code",
   "execution_count": 380,
   "metadata": {},
   "outputs": [],
   "source": [
    "def cross_over(chromosome1, chromosome2, depot_symbol=['***'], double_point=False):\n",
    "    \"\"\"\n",
    "    single or double point cross-over for two chromosomes\n",
    "    in this cross over, the corss over will be applied on raw chromosomes without depot (the depot symbols will be removed)\n",
    "    then the time that needed to go back to depot the depot symbol will be inserted in genes\n",
    "\n",
    "    Parameters:\n",
    "    ------------\n",
    "    chromosome1 : string\n",
    "        the genes representing one vehicle\n",
    "    chromosome2 : string\n",
    "        the genes representing one vehicle\n",
    "    depot_symbol : string\n",
    "        if we have multiple depots\n",
    "        then there would be different symbols for each\n",
    "    double_point : bool\n",
    "        if True, then the cross-over will be double point\n",
    "        default is False\n",
    "    \n",
    "    \n",
    "    Returns:\n",
    "    ---------\n",
    "    offspring1 : string\n",
    "        the new chromsome created in cross-over phase\n",
    "    offspring2: string\n",
    "        the new chromsome created in cross-over phase\n",
    "    \"\"\"\n",
    "    ## intialize the variables\n",
    "    offspring1 = None\n",
    "    offspring2 = None\n",
    "\n",
    "    ## removing the depot genes from each chromosome\n",
    "    parent1 = create_raw_chromsome(chromosome1, depot_symbol)\n",
    "    parent2 = create_raw_chromsome(chromosome2, depot_symbol)\n",
    "    \n",
    "    ## possible indices to break the chromsome\n",
    "    ## since each 3 characters represent one phenotype, then breaking gene from anywhere is not possible\n",
    "    break_ind = random.randrange(3, 31, 3)\n",
    "    break_ind2 = None\n",
    "\n",
    "    if double_point:\n",
    "        ## create another indice\n",
    "        break_ind2 = random.randrange(3, 31, 3)\n",
    "        ## to make sure two break points are not the same\n",
    "        while break_ind2 == break_ind:\n",
    "            break_ind2 = random.randrange(3, 31, 3)\n",
    "    \n",
    "        offspring1, offspring2 = break_double_point_gene(parent1, parent2, break_ind, break_ind2)\n",
    "    else:\n",
    "        offspring1, offspring2 = break_single_point_gene(parent1, parent2, break_ind)\n",
    "\n",
    "    return offspring1, offspring2\n",
    "\n",
    "            \n",
    "\n",
    "def break_double_point_gene(chromosome1, chromosome2, ind1, ind2):\n",
    "    \"\"\"\n",
    "    break the chromosome using double points\n",
    "    \"\"\"\n",
    "\n",
    "    ## find the first and second breaking point of chromosome\n",
    "    min_indice = min(ind1, ind2)\n",
    "    max_indice = max(ind1, ind2)\n",
    "\n",
    "    offspring1 = chromosome1[:min_indice] + chromosome2[min_indice:max_indice] + chromosome1[max_indice:]\n",
    "    offspring2 = chromosome2[:min_indice] + chromosome1[min_indice:max_indice] + chromosome2[max_indice:]\n",
    "    \n",
    "    return offspring1, offspring2\n",
    "\n",
    "def break_single_point_gene(chromosome1, chromosome2, indice):\n",
    "    \"\"\"\n",
    "    break the chromosome using single points\n",
    "    \"\"\"\n",
    "\n",
    "    ## find the first and second breaking point of chromosome\n",
    "    offspring1 = chromosome1[:indice] + chromosome2[indice:]\n",
    "    offspring2 = chromosome2[:indice] + chromosome1[indice:]\n",
    "    \n",
    "    return offspring1, offspring2\n",
    "\n",
    "def create_raw_chromsome(chromosome, depot_symbols):\n",
    "    \"\"\"\n",
    "    create a raw chromosome by removing the depots in its genes\n",
    "    \"\"\"\n",
    "    ## the first and last chromsome's gene are the depots\n",
    "    raw_chromomsome = chromosome[1:-1]\n",
    "    \n",
    "    ## removing the depot symbols\n",
    "    for symbol in depot_symbols:\n",
    "        raw_chromomsome = raw_chromomsome.replace(symbol, '')\n",
    "    \n",
    "    return raw_chromomsome\n",
    "\n",
    "def post_process_capacity_based_chromsome(raw_chromsome, dataset, max_capacity, start_end_depot_symbol = '*', depot_symbol = '***'):\n",
    "    \"\"\"\n",
    "    add the depot symbols to the chromsome using capacities\n",
    "    if the vehicle (chromsome) does not have more capacity then adding the depot symbol to it\n",
    "    means that the vehicle has gone back to depot and then served other next customers\n",
    "\n",
    "    Important Notice: the depot symbol here is assumed as `*` for the starting point and ending point, and `***` for the middle ones \n",
    "\n",
    "    Parameters:\n",
    "    ------------\n",
    "    raw_chromsome : string\n",
    "        a string representing the order of vechile serving\n",
    "    dataset : dataframe\n",
    "        getting the demand of each customer in it (`demand` column should be included with the customer number)\n",
    "    max_capacity : int\n",
    "        the maximum capacity that a vehicle can carry\n",
    "    start_end_depot_symbol : string\n",
    "        the start and the end of chromsome symbols representing the depot\n",
    "    depot_symbol : string\n",
    "        the depot symbol that is being used in the middle of the chromosomes\n",
    "    \n",
    "    Returns:\n",
    "    ---------\n",
    "    chromosome : string\n",
    "        the chromsome with added depot symbols\n",
    "    \"\"\"\n",
    "    tot_capacity = 0\n",
    "    i = 3\n",
    "    chromsome = ''\n",
    "    # for i in range(0, len(raw_chromsome), 3):\n",
    "    while i < len(raw_chromsome)+3:\n",
    "        if raw_chromsome[i-3:i]:\n",
    "            customer_number = int(raw_chromsome[i-3:i]) - 100\n",
    "            customer = dataset[dataset.number == customer_number]\n",
    "\n",
    "            tot_capacity += customer.demand.values[0]\n",
    "        \n",
    "            ## if the total capacity has gone more than the vehicle capacity, then add the depot symbol and \n",
    "            if tot_capacity > max_capacity:\n",
    "                chromsome += depot_symbol\n",
    "                ## reset the capacity\n",
    "                tot_capacity = 0\n",
    "            ## else add the customer number to the gene\n",
    "            else:\n",
    "                chromsome += raw_chromsome[i-3:i]\n",
    "                ## go for the next customer (increase `i`) \n",
    "                i += 3\n",
    "\n",
    "    ## start and the end of chromsome should be the depots\n",
    "    chromsome = start_end_depot_symbol + chromsome + start_end_depot_symbol\n",
    "        \n",
    "    return chromsome\n",
    "\n",
    "def post_process_capacity_based_population(raw_population, dataset, max_capacity ,start_end_depot_symbol = '*', depot_symbol = '***'):\n",
    "    \"\"\"\n",
    "    post process the raw population based on their capacity \n",
    "    raw_population means population of chromsomes without any depot symbols\n",
    "\n",
    "    Parameters:\n",
    "    ------------\n",
    "    raw_population : array of strings\n",
    "        array of raw chromsomes\n",
    "    dataset : dataframe\n",
    "        getting the demand of each customer in it (`demand` column should be included with the customer number)\n",
    "    start_end_depot_symbol : string\n",
    "        the start and the end of chromsome symbols representing the depot\n",
    "    depot_symbol : string\n",
    "        the depot symbol that is being used in the middle of the chromosomes\n",
    "    \n",
    "    Returns:\n",
    "    ---------\n",
    "    population : array of strings\n",
    "        the array of populations with depot symbols in it\n",
    "    \"\"\"\n",
    "    population = []\n",
    "\n",
    "    for raw_chromsome in raw_population:\n",
    "        chromsome = post_process_capacity_based_chromsome(raw_chromsome, dataset, max_capacity, start_end_depot_symbol, depot_symbol)\n",
    "        population.append(chromsome)\n",
    "    \n",
    "    return population"
   ]
  },
  {
   "cell_type": "code",
   "execution_count": 381,
   "metadata": {},
   "outputs": [
    {
     "data": {
      "text/plain": [
       "('163138170102106129143128116113', '159150189119158186117141165175')"
      ]
     },
     "execution_count": 381,
     "metadata": {},
     "output_type": "execute_result"
    }
   ],
   "source": [
    "pop = cross_over(population[0], population[1])\n",
    "pop"
   ]
  },
  {
   "cell_type": "code",
   "execution_count": 383,
   "metadata": {},
   "outputs": [
    {
     "data": {
      "text/plain": [
       "('163138170102158129143128116113', '159150189119106186117141165175')"
      ]
     },
     "execution_count": 383,
     "metadata": {},
     "output_type": "execute_result"
    }
   ],
   "source": [
    "pop2 = cross_over(population[0], population[1], double_point=True)\n",
    "pop2"
   ]
  },
  {
   "cell_type": "code",
   "execution_count": 382,
   "metadata": {},
   "outputs": [
    {
     "data": {
      "text/plain": [
       "['*163138170102106***129143128116113*',\n",
       " '*159150189119158***186117141165***175*']"
      ]
     },
     "execution_count": 382,
     "metadata": {},
     "output_type": "execute_result"
    }
   ],
   "source": [
    "post_process_capacity_based_population(pop, p1_data, 70)"
   ]
  },
  {
   "cell_type": "markdown",
   "metadata": {},
   "source": [
    "# The method\n",
    "## With Capacity Limit\n",
    "1. **Representation** \n",
    "TODO: create shuffled customers in one string <br>\n",
    "then add the deposit into the string based on capacities <br>\n",
    "finally add `|` symbol to the string in the places before or after the depot_symbol to show different vehicles <br>\n",
    "fitness is based on distances gone <br>\n",
    "\n",
    "2. **Recombination**\n",
    "TODO: Use the premutation methods <br>\n",
    "and by that, recalculate the depots: make sure the capacities for vehicles are correct, <br>\n",
    "if not correct recalculate the capacity and the routings for the next parts of the chromsome <br>\n",
    "\n",
    "## With Distance Limit\n",
    "1. all the work is the same but use the distance metric instead of capacity "
   ]
  },
  {
   "cell_type": "code",
   "execution_count": 183,
   "metadata": {},
   "outputs": [],
   "source": [
    "def generate_vehicles_chromosomes(dataset, MAX_CAPACITY, depot_symbol='(1)'):\n",
    "    \"\"\"\n",
    "    Generate chromosomes of vehicles from 100 data point (data points are summed with 100 in order to be able to know whether the genes in chromosome )\n",
    "\n",
    "    \"\"\"\n",
    "\n",
    "    arr = np.linspace(1, 100, 100, dtype=int)\n",
    "    arr = list(arr)\n",
    "\n",
    "    gene = depot_symbol\n",
    "    capacity = 0\n",
    "\n",
    "    while len(arr) > 0:\n",
    "\n",
    "        customer_number = without_replacement_sampling(arr)\n",
    "        data = dataset[dataset.number == customer_number]\n",
    "        capacity += data.demand.values[0]\n",
    "\n",
    "        ## if couldn't carry item, return to depot\n",
    "        if capacity >= MAX_CAPACITY:\n",
    "            gene += depot_symbol\n",
    "            ## reset the capacity\n",
    "            capacity = 0\n",
    "\n",
    "            ## bring back the customer to our array\n",
    "            ## since we haven't used it\n",
    "            arr.append(data.number.values[0])\n",
    "\n",
    "        else:\n",
    "            gene += str(data.number.values[0] + 100) \n",
    "    gene += depot_symbol if gene[-1] != depot_symbol else ''\n",
    "    \n",
    "    return gene"
   ]
  },
  {
   "cell_type": "code",
   "execution_count": 186,
   "metadata": {},
   "outputs": [
    {
     "data": {
      "text/plain": [
       "'(1)122173104141112(1)133159156118169108(1)200197138161109(1)170167120145(1)132179187188(1)147155130192146148199(1)121178125152194(1)176184142103110183(1)168177186116111(1)182172180190139137101(1)198127126128131163(1)149166154(1)134119185158129(1)160144195135157117136(1)151189181162(1)124107102143165(1)175191164115174123(1)171193105106(1)140114150153113(1)196(1)'"
      ]
     },
     "execution_count": 186,
     "metadata": {},
     "output_type": "execute_result"
    }
   ],
   "source": [
    "chromosome = generate_vehicles_chromosomes(p1_data, 70)\n",
    "chromosome"
   ]
  },
  {
   "cell_type": "code",
   "execution_count": 444,
   "metadata": {},
   "outputs": [],
   "source": [
    "def divide_vehicles(chromosome, vehicle_count, depot_symbol):\n",
    "    \"\"\"\n",
    "    divide the chromsome to make different vehicles\n",
    "    \"\"\"\n",
    "\n",
    "    ## division point is the depots\n",
    "    ## one less vehicle count should be the division points\n",
    "    sample_arr = np.linspace(1, chromosome.count(depot_symbol) - 2, chromosome.count(depot_symbol) - 1, dtype=int )\n",
    "    sample_arr = list(sample_arr)\n",
    "    division_point = []\n",
    "    for _ in range(vehicle_count - 1):\n",
    "        point = without_replacement_sampling(sample_arr)\n",
    "        division_point.append(point)\n",
    "        \n",
    "    ## making the copy of string\n",
    "    vehicle_chromsome = chromosome\n",
    "\n",
    "    for point in division_point:\n",
    "        ## the process of finding point-th depot in chromsome\n",
    "        occurance = -1\n",
    "        occurance_idx = 0\n",
    "        while occurance < point:\n",
    "            occurance_idx = vehicle_chromsome.find(depot_symbol, occurance_idx) + 1\n",
    "            occurance += 1\n",
    "        \n",
    "        vehicle_chromsome = vehicle_chromsome[:occurance_idx+2] + '|' + vehicle_chromsome[occurance_idx+2:]\n",
    "\n",
    "    return vehicle_chromsome\n"
   ]
  },
  {
   "cell_type": "code",
   "execution_count": 448,
   "metadata": {},
   "outputs": [],
   "source": [
    "def process_division_points(vehicle_chromosome, depot_symbol):\n",
    "    \"\"\"\n",
    "    Add the depot symbol to division points\n",
    "    \"\"\"\n",
    "    processed_vehicle_chromsome = vehicle_chromosome\n",
    "\n",
    "    division_counts = vehicle_chromosome.count('|')\n",
    "\n",
    "    for idx in range(division_counts):\n",
    "        occurance = -1\n",
    "        occurance_idx = 0\n",
    "        while occurance < idx:\n",
    "            occurance_idx = processed_vehicle_chromsome.find('|', occurance_idx) + 1\n",
    "            occurance += 1\n",
    "        \n",
    "        processed_vehicle_chromsome = processed_vehicle_chromsome[:occurance_idx] + depot_symbol + processed_vehicle_chromsome[occurance_idx:]\n",
    "    \n",
    "    return processed_vehicle_chromsome\n"
   ]
  },
  {
   "cell_type": "code",
   "execution_count": 449,
   "metadata": {},
   "outputs": [
    {
     "data": {
      "text/plain": [
       "'(1)122173104141112(1)133159156118169108(1)200197138161109(1)170167120145(1)|132179187188(1)|147155130192146148199(1)|121178125152194(1)176184142103110183(1)168177186116111(1)|182172180190139137101(1)198127126128131163(1)|149166154(1)134119185158129(1)160144195135157117136(1)151189181162(1)124107102143165(1)175191164115174123(1)171193105106(1)140114150153113(1)196(1)'"
      ]
     },
     "execution_count": 449,
     "metadata": {},
     "output_type": "execute_result"
    }
   ],
   "source": [
    "U_chromsome = divide_vehicles(chromosome, 6, '(1)')\n",
    "U_chromsome"
   ]
  },
  {
   "cell_type": "code",
   "execution_count": 457,
   "metadata": {},
   "outputs": [
    {
     "data": {
      "text/plain": [
       "'(1)122173104141112(1)133159156118169108(1)200197138161109(1)170167120145(1)|(1)132179187188(1)|(1)147155130192146148199(1)|(1)121178125152194(1)176184142103110183(1)168177186116111(1)|(1)182172180190139137101(1)198127126128131163(1)|(1)149166154(1)134119185158129(1)160144195135157117136(1)151189181162(1)124107102143165(1)175191164115174123(1)171193105106(1)140114150153113(1)196(1)'"
      ]
     },
     "execution_count": 457,
     "metadata": {},
     "output_type": "execute_result"
    }
   ],
   "source": [
    "processed_chromsome = process_division_points(U_chromsome, '(1)') \n",
    "processed_chromsome"
   ]
  },
  {
   "cell_type": "code",
   "execution_count": 500,
   "metadata": {},
   "outputs": [],
   "source": [
    "def evaluate_distance_fitness(chromsome, DEPOT_LOCATION, dataset):\n",
    "    \"\"\"\n",
    "    evaluate the distance gone for a chromsome containing different vehicle with the splitter symbol `|`\n",
    "\n",
    "    \"\"\"\n",
    "\n",
    "    depot_x_loc, depot_y_loc = DEPOT_LOCATION\n",
    "\n",
    "    distance = 0\n",
    "    for ch in chromsome.split('(1)'):\n",
    "        if ch and ch != '|':\n",
    "            ## start is always from a depot\n",
    "            last_loc_X, last_loc_Y = DEPOT_LOCATION\n",
    "            for i in range(3, len(ch)+1, 3):\n",
    "                ## customer number\n",
    "                customer_no = int(ch[i-3:i]) - 100\n",
    "\n",
    "                ## finding the exact customer location from the dataset            \n",
    "                customer = dataset[dataset.number == customer_no]\n",
    "                customer_X = customer.x.values[0]\n",
    "                customer_Y = customer.y.values[0]\n",
    "\n",
    "                ## manhatan distance\n",
    "                distance += abs(last_loc_X - customer_X) + abs(last_loc_Y - customer_Y)\n",
    "                ## update the last locations\n",
    "                last_loc_X, last_loc_Y = customer_X, customer_Y\n",
    "\n",
    "            ## end is always the depot\n",
    "            distance += abs(last_loc_X - depot_x_loc) + abs(last_loc_Y - depot_y_loc)\n",
    "    \n",
    "    return distance"
   ]
  },
  {
   "cell_type": "code",
   "execution_count": 503,
   "metadata": {},
   "outputs": [
    {
     "data": {
      "text/plain": [
       "7666"
      ]
     },
     "execution_count": 503,
     "metadata": {},
     "output_type": "execute_result"
    }
   ],
   "source": [
    "evaluate_distance_fitness(chromosome, DEPOT_LOCATION, p1_data)"
   ]
  },
  {
   "cell_type": "code",
   "execution_count": 505,
   "metadata": {},
   "outputs": [],
   "source": [
    "def generate_population(max_capacity, DEPOT_LOCATION, dataset, depot_symbol = '(1)', pop_count = 10, vehicle_count=6):\n",
    "    \"\"\"\n",
    "    generate the population of the problem\n",
    "\n",
    "    Parameters:\n",
    "    ------------\n",
    "    depot_symbol : string\n",
    "        the symbol for the depot\n",
    "    max_capacity : int\n",
    "        maximum capacity of a vehicle\n",
    "    dataset : dataframe\n",
    "        the whole information about the problem\n",
    "\n",
    "    Returns:\n",
    "    ----------\n",
    "    population_arr : array\n",
    "        the array of different chromsomes\n",
    "    fitness_arr : array\n",
    "        the fitnesses corresponding to each chromsome\n",
    "    \"\"\"\n",
    "    ## chromsomes array\n",
    "    population_arr = []\n",
    "\n",
    "    ## fitness array\n",
    "    fitness_arr = []\n",
    "\n",
    "    for _ in range(pop_count):\n",
    "        \n",
    "        ## just make chromsomes with depot symbols\n",
    "        chromsome = generate_vehicles_chromosomes(dataset, max_capacity, depot_symbol)\n",
    "        ## divide it into different part to make it like different vehicles\n",
    "        vehicle_chromsome = divide_vehicles(chromsome, vehicle_count, depot_symbol)\n",
    "        ## process the divisions and make sure that the start points has the depot symbol \n",
    "        processed_vehicle_chromsome = process_division_points(vehicle_chromsome, depot_symbol)\n",
    "        \n",
    "        ## add to population array\n",
    "        population_arr.append(processed_vehicle_chromsome)\n",
    "\n",
    "        ## fitness evaluations\n",
    "        chromsome_fitness = evaluate_distance_fitness(processed_vehicle_chromsome, DEPOT_LOCATION, dataset)\n",
    "        fitness_arr.append(chromsome_fitness)\n",
    "        \n",
    "    return population_arr, fitness_arr"
   ]
  },
  {
   "cell_type": "code",
   "execution_count": 507,
   "metadata": {},
   "outputs": [],
   "source": [
    "population_array, fitness_array = generate_population(70, DEPOT_LOCATION, p1_data)"
   ]
  },
  {
   "cell_type": "code",
   "execution_count": 530,
   "metadata": {},
   "outputs": [],
   "source": [
    "from generate_population_scripts import generate_population"
   ]
  },
  {
   "cell_type": "code",
   "execution_count": 531,
   "metadata": {},
   "outputs": [],
   "source": [
    "population_array, fitness_array = generate_population(70, (-14, 9), p1_data)"
   ]
  },
  {
   "cell_type": "code",
   "execution_count": null,
   "metadata": {},
   "outputs": [],
   "source": []
  },
  {
   "cell_type": "code",
   "execution_count": null,
   "metadata": {},
   "outputs": [],
   "source": [
    "## TODO: Selection method\n",
    "## TODO: replacement method"
   ]
  }
 ],
 "metadata": {
  "kernelspec": {
   "display_name": "Python 3.10.6 64-bit",
   "language": "python",
   "name": "python3"
  },
  "language_info": {
   "codemirror_mode": {
    "name": "ipython",
    "version": 3
   },
   "file_extension": ".py",
   "mimetype": "text/x-python",
   "name": "python",
   "nbconvert_exporter": "python",
   "pygments_lexer": "ipython3",
   "version": "3.10.6"
  },
  "orig_nbformat": 4,
  "vscode": {
   "interpreter": {
    "hash": "2b955d226d9aa9f90a51fa3f36ce22332332eca7b3eabee7dfc09f1063aca4ef"
   }
  }
 },
 "nbformat": 4,
 "nbformat_minor": 2
}
