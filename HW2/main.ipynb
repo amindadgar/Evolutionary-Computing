{
 "cells": [
  {
   "cell_type": "code",
   "execution_count": 1,
   "metadata": {},
   "outputs": [],
   "source": [
    "import pandas as pd\n",
    "import numpy as np\n",
    "# import matplotlib.pyplot as plt\n",
    "# from sklearn.cluster import KMeans\n",
    "import random"
   ]
  },
  {
   "cell_type": "code",
   "execution_count": 2,
   "metadata": {},
   "outputs": [],
   "source": [
    "p1_data = pd.read_csv('data/P1.txt', delimiter=' ')"
   ]
  },
  {
   "cell_type": "code",
   "execution_count": 3,
   "metadata": {},
   "outputs": [
    {
     "data": {
      "text/html": [
       "<div>\n",
       "<style scoped>\n",
       "    .dataframe tbody tr th:only-of-type {\n",
       "        vertical-align: middle;\n",
       "    }\n",
       "\n",
       "    .dataframe tbody tr th {\n",
       "        vertical-align: top;\n",
       "    }\n",
       "\n",
       "    .dataframe thead th {\n",
       "        text-align: right;\n",
       "    }\n",
       "</style>\n",
       "<table border=\"1\" class=\"dataframe\">\n",
       "  <thead>\n",
       "    <tr style=\"text-align: right;\">\n",
       "      <th></th>\n",
       "      <th>number</th>\n",
       "      <th>x</th>\n",
       "      <th>y</th>\n",
       "      <th>demand</th>\n",
       "    </tr>\n",
       "  </thead>\n",
       "  <tbody>\n",
       "    <tr>\n",
       "      <th>0</th>\n",
       "      <td>1</td>\n",
       "      <td>34</td>\n",
       "      <td>-11</td>\n",
       "      <td>17</td>\n",
       "    </tr>\n",
       "    <tr>\n",
       "      <th>1</th>\n",
       "      <td>2</td>\n",
       "      <td>29</td>\n",
       "      <td>-35</td>\n",
       "      <td>17</td>\n",
       "    </tr>\n",
       "    <tr>\n",
       "      <th>2</th>\n",
       "      <td>3</td>\n",
       "      <td>15</td>\n",
       "      <td>0</td>\n",
       "      <td>10</td>\n",
       "    </tr>\n",
       "    <tr>\n",
       "      <th>3</th>\n",
       "      <td>4</td>\n",
       "      <td>-20</td>\n",
       "      <td>-24</td>\n",
       "      <td>4</td>\n",
       "    </tr>\n",
       "    <tr>\n",
       "      <th>4</th>\n",
       "      <td>5</td>\n",
       "      <td>-8</td>\n",
       "      <td>-21</td>\n",
       "      <td>7</td>\n",
       "    </tr>\n",
       "    <tr>\n",
       "      <th>...</th>\n",
       "      <td>...</td>\n",
       "      <td>...</td>\n",
       "      <td>...</td>\n",
       "      <td>...</td>\n",
       "    </tr>\n",
       "    <tr>\n",
       "      <th>95</th>\n",
       "      <td>96</td>\n",
       "      <td>-24</td>\n",
       "      <td>8</td>\n",
       "      <td>13</td>\n",
       "    </tr>\n",
       "    <tr>\n",
       "      <th>96</th>\n",
       "      <td>97</td>\n",
       "      <td>32</td>\n",
       "      <td>-33</td>\n",
       "      <td>17</td>\n",
       "    </tr>\n",
       "    <tr>\n",
       "      <th>97</th>\n",
       "      <td>98</td>\n",
       "      <td>15</td>\n",
       "      <td>21</td>\n",
       "      <td>14</td>\n",
       "    </tr>\n",
       "    <tr>\n",
       "      <th>98</th>\n",
       "      <td>99</td>\n",
       "      <td>-16</td>\n",
       "      <td>35</td>\n",
       "      <td>15</td>\n",
       "    </tr>\n",
       "    <tr>\n",
       "      <th>99</th>\n",
       "      <td>100</td>\n",
       "      <td>15</td>\n",
       "      <td>-28</td>\n",
       "      <td>6</td>\n",
       "    </tr>\n",
       "  </tbody>\n",
       "</table>\n",
       "<p>100 rows × 4 columns</p>\n",
       "</div>"
      ],
      "text/plain": [
       "    number   x   y  demand\n",
       "0        1  34 -11      17\n",
       "1        2  29 -35      17\n",
       "2        3  15   0      10\n",
       "3        4 -20 -24       4\n",
       "4        5  -8 -21       7\n",
       "..     ...  ..  ..     ...\n",
       "95      96 -24   8      13\n",
       "96      97  32 -33      17\n",
       "97      98  15  21      14\n",
       "98      99 -16  35      15\n",
       "99     100  15 -28       6\n",
       "\n",
       "[100 rows x 4 columns]"
      ]
     },
     "execution_count": 3,
     "metadata": {},
     "output_type": "execute_result"
    }
   ],
   "source": [
    "p1_data"
   ]
  },
  {
   "cell_type": "code",
   "execution_count": 4,
   "metadata": {},
   "outputs": [],
   "source": [
    "DEPOT_LOCATION = (-14, 9)"
   ]
  },
  {
   "cell_type": "code",
   "execution_count": 13,
   "metadata": {},
   "outputs": [],
   "source": [
    "def without_replacement_sampling(array):\n",
    "    sampled_value = random.sample(array, 1)\n",
    "    array.remove(sampled_value[0])\n",
    "\n",
    "    return sampled_value[0]"
   ]
  },
  {
   "cell_type": "code",
   "execution_count": 4,
   "metadata": {},
   "outputs": [],
   "source": [
    "# evaluate_fitness_distance(population, p1_data, DEPOT_LOCATION )"
   ]
  },
  {
   "cell_type": "code",
   "execution_count": 380,
   "metadata": {},
   "outputs": [],
   "source": [
    "def cross_over(chromosome1, chromosome2, depot_symbol=['***'], double_point=False):\n",
    "    \"\"\"\n",
    "    single or double point cross-over for two chromosomes\n",
    "    in this cross over, the corss over will be applied on raw chromosomes without depot (the depot symbols will be removed)\n",
    "    then the time that needed to go back to depot the depot symbol will be inserted in genes\n",
    "\n",
    "    Parameters:\n",
    "    ------------\n",
    "    chromosome1 : string\n",
    "        the genes representing one vehicle\n",
    "    chromosome2 : string\n",
    "        the genes representing one vehicle\n",
    "    depot_symbol : string\n",
    "        if we have multiple depots\n",
    "        then there would be different symbols for each\n",
    "    double_point : bool\n",
    "        if True, then the cross-over will be double point\n",
    "        default is False\n",
    "    \n",
    "    \n",
    "    Returns:\n",
    "    ---------\n",
    "    offspring1 : string\n",
    "        the new chromsome created in cross-over phase\n",
    "    offspring2: string\n",
    "        the new chromsome created in cross-over phase\n",
    "    \"\"\"\n",
    "    ## intialize the variables\n",
    "    offspring1 = None\n",
    "    offspring2 = None\n",
    "\n",
    "    ## removing the depot genes from each chromosome\n",
    "    parent1 = create_raw_chromsome(chromosome1, depot_symbol)\n",
    "    parent2 = create_raw_chromsome(chromosome2, depot_symbol)\n",
    "    \n",
    "    ## possible indices to break the chromsome\n",
    "    ## since each 3 characters represent one phenotype, then breaking gene from anywhere is not possible\n",
    "    break_ind = random.randrange(3, 31, 3)\n",
    "    break_ind2 = None\n",
    "\n",
    "    if double_point:\n",
    "        ## create another indice\n",
    "        break_ind2 = random.randrange(3, 31, 3)\n",
    "        ## to make sure two break points are not the same\n",
    "        while break_ind2 == break_ind:\n",
    "            break_ind2 = random.randrange(3, 31, 3)\n",
    "    \n",
    "        offspring1, offspring2 = break_double_point_gene(parent1, parent2, break_ind, break_ind2)\n",
    "    else:\n",
    "        offspring1, offspring2 = break_single_point_gene(parent1, parent2, break_ind)\n",
    "\n",
    "    return offspring1, offspring2\n",
    "\n",
    "            \n",
    "\n",
    "def break_double_point_gene(chromosome1, chromosome2, ind1, ind2):\n",
    "    \"\"\"\n",
    "    break the chromosome using double points\n",
    "    \"\"\"\n",
    "\n",
    "    ## find the first and second breaking point of chromosome\n",
    "    min_indice = min(ind1, ind2)\n",
    "    max_indice = max(ind1, ind2)\n",
    "\n",
    "    offspring1 = chromosome1[:min_indice] + chromosome2[min_indice:max_indice] + chromosome1[max_indice:]\n",
    "    offspring2 = chromosome2[:min_indice] + chromosome1[min_indice:max_indice] + chromosome2[max_indice:]\n",
    "    \n",
    "    return offspring1, offspring2\n",
    "\n",
    "def break_single_point_gene(chromosome1, chromosome2, indice):\n",
    "    \"\"\"\n",
    "    break the chromosome using single points\n",
    "    \"\"\"\n",
    "\n",
    "    ## find the first and second breaking point of chromosome\n",
    "    offspring1 = chromosome1[:indice] + chromosome2[indice:]\n",
    "    offspring2 = chromosome2[:indice] + chromosome1[indice:]\n",
    "    \n",
    "    return offspring1, offspring2\n",
    "\n",
    "def create_raw_chromsome(chromosome, depot_symbols):\n",
    "    \"\"\"\n",
    "    create a raw chromosome by removing the depots in its genes\n",
    "    \"\"\"\n",
    "    ## the first and last chromsome's gene are the depots\n",
    "    raw_chromomsome = chromosome[1:-1]\n",
    "    \n",
    "    ## removing the depot symbols\n",
    "    for symbol in depot_symbols:\n",
    "        raw_chromomsome = raw_chromomsome.replace(symbol, '')\n",
    "    \n",
    "    return raw_chromomsome\n",
    "\n",
    "def post_process_capacity_based_chromsome(raw_chromsome, dataset, max_capacity, start_end_depot_symbol = '*', depot_symbol = '***'):\n",
    "    \"\"\"\n",
    "    add the depot symbols to the chromsome using capacities\n",
    "    if the vehicle (chromsome) does not have more capacity then adding the depot symbol to it\n",
    "    means that the vehicle has gone back to depot and then served other next customers\n",
    "\n",
    "    Important Notice: the depot symbol here is assumed as `*` for the starting point and ending point, and `***` for the middle ones \n",
    "\n",
    "    Parameters:\n",
    "    ------------\n",
    "    raw_chromsome : string\n",
    "        a string representing the order of vechile serving\n",
    "    dataset : dataframe\n",
    "        getting the demand of each customer in it (`demand` column should be included with the customer number)\n",
    "    max_capacity : int\n",
    "        the maximum capacity that a vehicle can carry\n",
    "    start_end_depot_symbol : string\n",
    "        the start and the end of chromsome symbols representing the depot\n",
    "    depot_symbol : string\n",
    "        the depot symbol that is being used in the middle of the chromosomes\n",
    "    \n",
    "    Returns:\n",
    "    ---------\n",
    "    chromosome : string\n",
    "        the chromsome with added depot symbols\n",
    "    \"\"\"\n",
    "    tot_capacity = 0\n",
    "    i = 3\n",
    "    chromsome = ''\n",
    "    # for i in range(0, len(raw_chromsome), 3):\n",
    "    while i < len(raw_chromsome)+3:\n",
    "        if raw_chromsome[i-3:i]:\n",
    "            customer_number = int(raw_chromsome[i-3:i]) - 100\n",
    "            customer = dataset[dataset.number == customer_number]\n",
    "\n",
    "            tot_capacity += customer.demand.values[0]\n",
    "        \n",
    "            ## if the total capacity has gone more than the vehicle capacity, then add the depot symbol and \n",
    "            if tot_capacity > max_capacity:\n",
    "                chromsome += depot_symbol\n",
    "                ## reset the capacity\n",
    "                tot_capacity = 0\n",
    "            ## else add the customer number to the gene\n",
    "            else:\n",
    "                chromsome += raw_chromsome[i-3:i]\n",
    "                ## go for the next customer (increase `i`) \n",
    "                i += 3\n",
    "\n",
    "    ## start and the end of chromsome should be the depots\n",
    "    chromsome = start_end_depot_symbol + chromsome + start_end_depot_symbol\n",
    "        \n",
    "    return chromsome\n",
    "\n",
    "def post_process_capacity_based_population(raw_population, dataset, max_capacity ,start_end_depot_symbol = '*', depot_symbol = '***'):\n",
    "    \"\"\"\n",
    "    post process the raw population based on their capacity \n",
    "    raw_population means population of chromsomes without any depot symbols\n",
    "\n",
    "    Parameters:\n",
    "    ------------\n",
    "    raw_population : array of strings\n",
    "        array of raw chromsomes\n",
    "    dataset : dataframe\n",
    "        getting the demand of each customer in it (`demand` column should be included with the customer number)\n",
    "    start_end_depot_symbol : string\n",
    "        the start and the end of chromsome symbols representing the depot\n",
    "    depot_symbol : string\n",
    "        the depot symbol that is being used in the middle of the chromosomes\n",
    "    \n",
    "    Returns:\n",
    "    ---------\n",
    "    population : array of strings\n",
    "        the array of populations with depot symbols in it\n",
    "    \"\"\"\n",
    "    population = []\n",
    "\n",
    "    for raw_chromsome in raw_population:\n",
    "        chromsome = post_process_capacity_based_chromsome(raw_chromsome, dataset, max_capacity, start_end_depot_symbol, depot_symbol)\n",
    "        population.append(chromsome)\n",
    "    \n",
    "    return population"
   ]
  },
  {
   "cell_type": "code",
   "execution_count": 381,
   "metadata": {},
   "outputs": [
    {
     "data": {
      "text/plain": [
       "('163138170102106129143128116113', '159150189119158186117141165175')"
      ]
     },
     "execution_count": 381,
     "metadata": {},
     "output_type": "execute_result"
    }
   ],
   "source": [
    "pop = cross_over(population[0], population[1])\n",
    "pop"
   ]
  },
  {
   "cell_type": "code",
   "execution_count": 383,
   "metadata": {},
   "outputs": [
    {
     "data": {
      "text/plain": [
       "('163138170102158129143128116113', '159150189119106186117141165175')"
      ]
     },
     "execution_count": 383,
     "metadata": {},
     "output_type": "execute_result"
    }
   ],
   "source": [
    "pop2 = cross_over(population[0], population[1], double_point=True)\n",
    "pop2"
   ]
  },
  {
   "cell_type": "markdown",
   "metadata": {},
   "source": [
    "# The method\n",
    "## With Capacity Limit\n",
    "1. **Representation** \n",
    "TODO: create shuffled customers in one string <br>\n",
    "then add the deposit into the string based on capacities <br>\n",
    "finally add `|` symbol to the string in the places before or after the depot_symbol to show different vehicles <br>\n",
    "fitness is based on distances gone <br>\n",
    "\n",
    "2. **Recombination**\n",
    "TODO: Use the premutation methods <br>\n",
    "and by that, recalculate the depots: make sure the capacities for vehicles are correct, <br>\n",
    "if not correct recalculate the capacity and the routings for the next parts of the chromsome <br>\n",
    "\n",
    "## With Distance Limit\n",
    "1. all the work is the same but use the distance metric instead of capacity "
   ]
  },
  {
   "cell_type": "code",
   "execution_count": 32,
   "metadata": {},
   "outputs": [],
   "source": [
    "\n",
    "def generate_vehicles_chromosomes(dataset, MAX_CAPACITY, depot_symbol='(1)'):\n",
    "    \"\"\"\n",
    "    Generate chromosomes of vehicles from 100 data point (data points are summed with 100 in order to be able to know whether the genes in chromosome )\n",
    "\n",
    "    \"\"\"\n",
    "\n",
    "    arr = np.linspace(1, 100, 100, dtype=int)\n",
    "    arr = list(arr)\n",
    "\n",
    "    gene = depot_symbol\n",
    "    capacity = 0\n",
    "\n",
    "    while len(arr) > 0:\n",
    "\n",
    "        customer_number = without_replacement_sampling(arr)\n",
    "        data = dataset[dataset.number == customer_number]\n",
    "        capacity += data.demand.values[0]\n",
    "\n",
    "        ## if couldn't carry item, return to depot\n",
    "        if capacity >= MAX_CAPACITY:\n",
    "            gene += depot_symbol\n",
    "            ## reset the capacity\n",
    "            capacity = 0\n",
    "\n",
    "            ## bring back the customer to our array\n",
    "            ## since we haven't used it\n",
    "            arr.append(data.number.values[0])\n",
    "\n",
    "        else:\n",
    "            gene += str(data.number.values[0] + 100) \n",
    "    gene += depot_symbol if gene[-1] != depot_symbol else ''\n",
    "    \n",
    "    return gene\n",
    "\n",
    "def divide_vehicles(chromosome, vehicle_count, depot_symbol):\n",
    "    \"\"\"\n",
    "    add the `|` as a division for a chromsome to make different vehicles\n",
    "    \"\"\"\n",
    "\n",
    "    ## division point is the depots\n",
    "    ## one less vehicle count should be the division points\n",
    "    sample_arr = np.linspace(1, chromosome.count(depot_symbol) - 2, chromosome.count(depot_symbol) - 1, dtype=int )\n",
    "    sample_arr = list(sample_arr)\n",
    "    division_point = []\n",
    "    for _ in range(vehicle_count - 1):\n",
    "        point = without_replacement_sampling(sample_arr)\n",
    "        division_point.append(point)\n",
    "        \n",
    "    ## making the copy of string\n",
    "    vehicle_chromsome = chromosome\n",
    "\n",
    "    for point in division_point:\n",
    "        ## the process of finding point-th depot in chromsome\n",
    "        occurance = -1\n",
    "        occurance_idx = 0\n",
    "        while occurance < point:\n",
    "            occurance_idx = vehicle_chromsome.find(depot_symbol, occurance_idx) + 1\n",
    "            occurance += 1\n",
    "        \n",
    "        vehicle_chromsome = vehicle_chromsome[:occurance_idx+2] + '|' + vehicle_chromsome[occurance_idx+2:]\n",
    "\n",
    "    return vehicle_chromsome\n",
    "\n",
    "def without_replacement_sampling(array):\n",
    "    \"\"\"\n",
    "    get some value without replacement from array\n",
    "    \"\"\"\n",
    "    sampled_value = random.sample(array, 1)\n",
    "    array.remove(sampled_value[0])\n",
    "\n",
    "    return sampled_value[0]\n",
    "\n",
    "def process_division_points(vehicle_chromosome, depot_symbol):\n",
    "    \"\"\"\n",
    "    Add the depot symbol after the division points\n",
    "    \"\"\"\n",
    "    processed_vehicle_chromsome = vehicle_chromosome\n",
    "\n",
    "    division_counts = vehicle_chromosome.count('|')\n",
    "\n",
    "    for idx in range(division_counts):\n",
    "        occurance = -1\n",
    "        occurance_idx = 0\n",
    "        while occurance < idx:\n",
    "            occurance_idx = processed_vehicle_chromsome.find('|', occurance_idx) + 1\n",
    "            occurance += 1\n",
    "        \n",
    "        processed_vehicle_chromsome = processed_vehicle_chromsome[:occurance_idx] + depot_symbol + processed_vehicle_chromsome[occurance_idx:]\n",
    "    \n",
    "    return processed_vehicle_chromsome\n",
    "\n",
    "\n",
    "def evaluate_distance_fitness(chromsome, DEPOT_LOCATION, dataset):\n",
    "    \"\"\"\n",
    "    evaluate the distance gone for a chromsome containing different vehicle with the splitter symbol `|`\n",
    "\n",
    "    \"\"\"\n",
    "\n",
    "    depot_x_loc, depot_y_loc = DEPOT_LOCATION\n",
    "\n",
    "    distance = 0\n",
    "    for ch in chromsome.split('(1)'):\n",
    "        if ch and ch != '|':\n",
    "            ## start is always from a depot\n",
    "            last_loc_X, last_loc_Y = DEPOT_LOCATION\n",
    "            for i in range(3, len(ch)+1, 3):\n",
    "                ## customer number\n",
    "                customer_no = int(ch[i-3:i]) - 100\n",
    "\n",
    "                ## finding the exact customer location from the dataset            \n",
    "                customer = dataset[dataset.number == customer_no]\n",
    "                customer_X = customer.x.values[0]\n",
    "                customer_Y = customer.y.values[0]\n",
    "\n",
    "                ## manhatan distance\n",
    "                distance += abs(last_loc_X - customer_X) + abs(last_loc_Y - customer_Y)\n",
    "                ## update the last locations\n",
    "                last_loc_X, last_loc_Y = customer_X, customer_Y\n",
    "\n",
    "            ## end is always the depot\n",
    "            distance += abs(last_loc_X - depot_x_loc) + abs(last_loc_Y - depot_y_loc)\n",
    "    \n",
    "    return distance\n",
    "\n",
    "def generate_population(max_capacity, DEPOT_LOCATION, dataset, depot_symbol = '(1)', pop_count = 10, vehicle_count=6):\n",
    "    \"\"\"\n",
    "    generate the population of the problem\n",
    "\n",
    "    Parameters:\n",
    "    ------------\n",
    "    depot_symbol : string\n",
    "        the symbol for the depot\n",
    "    max_capacity : int\n",
    "        maximum capacity of a vehicle\n",
    "    dataset : dataframe\n",
    "        the whole information about the problem\n",
    "\n",
    "    Returns:\n",
    "    ----------\n",
    "    population_arr : array\n",
    "        the array of different chromsomes\n",
    "    fitness_arr : array\n",
    "        the fitnesses corresponding to each chromsome\n",
    "    \"\"\"\n",
    "    ## chromsomes array\n",
    "    population_arr = []\n",
    "\n",
    "    ## fitness array\n",
    "    fitness_arr = []\n",
    "\n",
    "    for _ in range(pop_count):\n",
    "        \n",
    "        ## just make chromsomes with depot symbols\n",
    "        chromsome = generate_vehicles_chromosomes(dataset, max_capacity, depot_symbol)\n",
    "        ## divide it into different part to make it like different vehicles\n",
    "        vehicle_chromsome = divide_vehicles(chromsome, vehicle_count, depot_symbol)\n",
    "        ## process the divisions and make sure that the start points has the depot symbol \n",
    "        processed_vehicle_chromsome = process_division_points(vehicle_chromsome, depot_symbol)\n",
    "        \n",
    "        ## add to population array\n",
    "        population_arr.append(processed_vehicle_chromsome)\n",
    "\n",
    "        ## fitness evaluations\n",
    "        chromsome_fitness = evaluate_distance_fitness(processed_vehicle_chromsome, DEPOT_LOCATION, dataset)\n",
    "        fitness_arr.append(chromsome_fitness)\n",
    "        \n",
    "    return population_arr, fitness_arr"
   ]
  },
  {
   "cell_type": "code",
   "execution_count": 51,
   "metadata": {},
   "outputs": [],
   "source": [
    "def process_depots(dataset ,string_chromsome_arr, max_capacity, depot_symbol):\n",
    "    \"\"\"\n",
    "    Add the depot symbols to string chromsome array (the customer numbers are strings in the array)\n",
    "    \"\"\"\n",
    "    capacity = 0\n",
    "    idx = 0\n",
    "    string_chromsome = depot_symbol\n",
    "    while idx < len(string_chromsome_arr):\n",
    "        gene = string_chromsome_arr[idx]\n",
    "\n",
    "        customer_no = int(gene) - 100\n",
    "        customer = dataset[dataset.number == customer_no]\n",
    "\n",
    "        capacity += customer.demand.values[0]\n",
    "        \n",
    "        if capacity > max_capacity:\n",
    "            string_chromsome += depot_symbol\n",
    "            capacity = 0\n",
    "        else:\n",
    "            string_chromsome += gene\n",
    "            idx += 1\n",
    "\n",
    "    string_chromsome += depot_symbol if string_chromsome[-3:] != depot_symbol else ''\n",
    "    \n",
    "    \n",
    "    return string_chromsome\n"
   ]
  },
  {
   "cell_type": "markdown",
   "metadata": {},
   "source": [
    "# Starting"
   ]
  },
  {
   "cell_type": "code",
   "execution_count": 5,
   "metadata": {},
   "outputs": [],
   "source": [
    "from generate_population_scripts import generate_population"
   ]
  },
  {
   "cell_type": "code",
   "execution_count": 6,
   "metadata": {},
   "outputs": [],
   "source": [
    "population_array, fitness_array = generate_population(70, (-14, 9), p1_data)"
   ]
  },
  {
   "cell_type": "code",
   "execution_count": 50,
   "metadata": {},
   "outputs": [
    {
     "data": {
      "text/plain": [
       "'(1)'"
      ]
     },
     "execution_count": 50,
     "metadata": {},
     "output_type": "execute_result"
    }
   ],
   "source": []
  },
  {
   "cell_type": "code",
   "execution_count": 33,
   "metadata": {},
   "outputs": [
    {
     "data": {
      "text/plain": [
       "8112"
      ]
     },
     "execution_count": 33,
     "metadata": {},
     "output_type": "execute_result"
    }
   ],
   "source": [
    "evaluate_distance_fitness(population_array[0], DEPOT_LOCATION, p1_data)"
   ]
  },
  {
   "cell_type": "code",
   "execution_count": 53,
   "metadata": {},
   "outputs": [
    {
     "data": {
      "text/plain": [
       "'(1)197112153200135116121(1)150111145125137(1)152127158134105160(1)122139142198(1)138101131167123(1)199168181129104151180172(1)130186144120184(1)179103(1)193185166176(1)115107119191156190(1)136169117106157(1)194173196170147(1)149159165171(1)141188162143(1)161114178146126187(1)140189102195(1)174164148124(1)108175132113133109(1)118183182110128192177155(1)163154(1)'"
      ]
     },
     "execution_count": 53,
     "metadata": {},
     "output_type": "execute_result"
    }
   ],
   "source": [
    "U_chromsome = split_string_step(population_array[0].replace('(1)', '').replace('|', ''), 3)\n",
    "U_chromsome = process_depots(p1_data, U_chromsome, 70, '(1)')\n",
    "U_chromsome"
   ]
  },
  {
   "cell_type": "code",
   "execution_count": 54,
   "metadata": {},
   "outputs": [
    {
     "data": {
      "text/plain": [
       "'(1)197112153200135116121(1)150111145125137(1)152127158134105160(1)122139142198(1)|138101131167123(1)199168181129104151180172(1)130186144120184(1)179103(1)193185166176(1)|115107119191156190(1)136169117106157(1)194173196170147(1)149159165171(1)141188162143(1)161114178146126187(1)|140189102195(1)174164148124(1)108175132113133109(1)|118183182110128192177155(1)|163154(1)'"
      ]
     },
     "execution_count": 54,
     "metadata": {},
     "output_type": "execute_result"
    }
   ],
   "source": [
    "divide_vehicles(U_chromsome, 6, '(1)')"
   ]
  },
  {
   "cell_type": "code",
   "execution_count": null,
   "metadata": {},
   "outputs": [],
   "source": []
  },
  {
   "cell_type": "code",
   "execution_count": 105,
   "metadata": {},
   "outputs": [],
   "source": [
    "def split_string_step(string, step):\n",
    "    \"\"\"\n",
    "    split a string based on steps\n",
    "    \"\"\"\n",
    "    string_arr = []\n",
    "\n",
    "    for i in range(1, len(string)+1):\n",
    "        if i % step == 0:\n",
    "            string_arr.append(string[i-step:i])\n",
    "    return string_arr\n",
    "\n",
    "def cut_and_crossfil(chromosome1, chromosome2, dataset, max_capacity, depot_symbol=['(1)']):\n",
    "    \"\"\"\n",
    "    cut and crossfill cross-over\n",
    "\n",
    "    at the end repair the chromsome with max_capacity\n",
    "    \"\"\"\n",
    "    ## find the vehicle count\n",
    "    vehicle_count = chromosome1.count('|') + 1\n",
    "\n",
    "    ## find the chromsome with minimum length and break it\n",
    "    chromosome_to_break = chromosome1 if len(chromosome1) < len(chromosome2) else chromosome2\n",
    "    second_chromsome = chromosome1 if len(chromosome1) > len(chromosome2) else chromosome2\n",
    "\n",
    "    ## remove all the symbols inside the chromsome\n",
    "    chromosome = chromosome_to_break.replace('|', '')\n",
    "    second_chromsome = second_chromsome.replace('|', '')\n",
    "\n",
    "    for symbol in depot_symbol:\n",
    "        chromosome = chromosome.replace(symbol, '')\n",
    "        second_chromsome = second_chromsome.replace(symbol, '')\n",
    "    \n",
    "    ## break point of the chromsomes\n",
    "    ## the break point should not be the first or the last points\n",
    "    ## create an array and randomly sample from it\n",
    "    arr = np.arange(3, min(len(chromosome), len(second_chromsome)) - 3, 3)\n",
    "    break_point = without_replacement_sampling(list(arr))\n",
    "    break_point = break_point // 3\n",
    "    \n",
    "    chromosome_arr = split_string_step(chromosome, 3)\n",
    "    second_chromsome_arr = split_string_step(second_chromsome, 3)\n",
    "\n",
    "    ## offspring creation\n",
    "    offspring1 = chromosome_arr[:break_point]\n",
    "\n",
    "    for gene in second_chromsome_arr[break_point:] + second_chromsome_arr[:break_point]:\n",
    "        if gene not in offspring1:\n",
    "            offspring1.append(gene)\n",
    "    \n",
    "    offspring2 = second_chromsome_arr[break_point:]\n",
    "    for gene in chromosome_arr[:break_point] + chromosome_arr[break_point:] :\n",
    "        if gene not in offspring2:\n",
    "            offspring2.append(gene)\n",
    "\n",
    "    ## repairment\n",
    "    random_depot = random.sample(depot_symbol, 1)[0]\n",
    "    offspring1 = process_depots(dataset, offspring1, max_capacity, random_depot)\n",
    "    offspring1 = divide_vehicles(offspring1, vehicle_count, random_depot)\n",
    "    offspring1 = process_division_points(offspring1, random_depot)\n",
    "\n",
    "    random_depot = random.sample(depot_symbol, 1)[0]\n",
    "    offspring2 = process_depots(dataset, offspring2, max_capacity, random_depot)\n",
    "    offspring2 = divide_vehicles(offspring2, vehicle_count, random_depot)\n",
    "    offspring2 = process_division_points(offspring2, random_depot)\n",
    "\n",
    "\n",
    "\n",
    "    return offspring1, offspring2"
   ]
  },
  {
   "cell_type": "code",
   "execution_count": 106,
   "metadata": {},
   "outputs": [],
   "source": [
    "U_offsprings = cut_and_crossfil(population_array[0], population_array[1], p1_data, 70)"
   ]
  },
  {
   "cell_type": "code",
   "execution_count": null,
   "metadata": {},
   "outputs": [],
   "source": []
  },
  {
   "cell_type": "code",
   "execution_count": 104,
   "metadata": {},
   "outputs": [
    {
     "data": {
      "text/plain": [
       "['1', '2', '4', '5']"
      ]
     },
     "execution_count": 104,
     "metadata": {},
     "output_type": "execute_result"
    }
   ],
   "source": [
    "A = ['1', '2']\n",
    "B = ['4', '5']\n",
    "A + B"
   ]
  },
  {
   "cell_type": "code",
   "execution_count": 31,
   "metadata": {},
   "outputs": [
    {
     "data": {
      "text/plain": [
       "'134|678'"
      ]
     },
     "execution_count": 31,
     "metadata": {},
     "output_type": "execute_result"
    }
   ],
   "source": [
    "'|'.join(A_U)"
   ]
  },
  {
   "cell_type": "code",
   "execution_count": null,
   "metadata": {},
   "outputs": [],
   "source": [
    "## TODO: Selection method\n",
    "## TODO: replacement method"
   ]
  }
 ],
 "metadata": {
  "kernelspec": {
   "display_name": "Python 3.10.6 64-bit",
   "language": "python",
   "name": "python3"
  },
  "language_info": {
   "codemirror_mode": {
    "name": "ipython",
    "version": 3
   },
   "file_extension": ".py",
   "mimetype": "text/x-python",
   "name": "python",
   "nbconvert_exporter": "python",
   "pygments_lexer": "ipython3",
   "version": "3.10.6"
  },
  "orig_nbformat": 4,
  "vscode": {
   "interpreter": {
    "hash": "2b955d226d9aa9f90a51fa3f36ce22332332eca7b3eabee7dfc09f1063aca4ef"
   }
  }
 },
 "nbformat": 4,
 "nbformat_minor": 2
}
