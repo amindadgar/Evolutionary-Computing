{
 "cells": [
  {
   "cell_type": "code",
   "execution_count": 1,
   "metadata": {},
   "outputs": [],
   "source": [
    "import pandas as pd\n",
    "import numpy as np\n",
    "# import matplotlib.pyplot as plt\n",
    "# from sklearn.cluster import KMeans\n"
   ]
  },
  {
   "cell_type": "markdown",
   "metadata": {},
   "source": [
    "# Our functions import"
   ]
  },
  {
   "cell_type": "code",
   "execution_count": 2,
   "metadata": {},
   "outputs": [],
   "source": [
    "from generate_population_scripts import (generate_population,\n",
    "                                         evaluate_distance_fitness, \n",
    "                                         evaluate_fitness_customers,\n",
    "                                         get_evalution_count, \n",
    "                                         set_evaluation_count)\n",
    "from combination import cut_and_crossfill, mutation_inverse, mutation_scramble\n",
    "from selection import roulette_wheel, binary_tournament"
   ]
  },
  {
   "cell_type": "code",
   "execution_count": 6,
   "metadata": {},
   "outputs": [],
   "source": [
    "def algorithm_run(pop_count, dataset, depot_location_dict, depot_symbol, vehicle_count, selection_method, FITNESS_FUNCTION, MUTATION_METHOD, RECOMBINATION_METHOD, max_capacity=None, max_distance=None, p_m=0.1, p_c =0.9 ,max_evaluations = 5000):\n",
    "    \"\"\"\n",
    "    depot_symbol is just one string\n",
    "\n",
    "    one constraint should be always given as input, the maximum capacity or maximum distance\n",
    "    \"\"\"\n",
    "    ## reset the evaluation counts\n",
    "    set_evaluation_count(0)\n",
    "\n",
    "    population, fitness_pop = generate_population(max_capacity=max_capacity,\n",
    "                                                     max_distance=max_distance,\n",
    "                                                     DEPOT_LOCATION= depot_location_dict[depot_symbol],\n",
    "                                                     dataset=dataset, \n",
    "                                                     depot_symbol= depot_symbol, \n",
    "                                                     pop_count= pop_count,\n",
    "                                                     vehicle_count= vehicle_count, )\n",
    "    generation_count = 0\n",
    "\n",
    "    best_chromosome = None\n",
    "    best_chromsome_fitness = None\n",
    "\n",
    "    while get_evalution_count() < max_evaluations:\n",
    "        print(f'Generation Count: {generation_count}, Evaluations number: {get_evalution_count()}')\n",
    "        ## create pair of the parents\n",
    "        parent_pairs = []\n",
    "        for _ in range(pop_count):\n",
    "            pair = selection_method(population, fitness_pop)\n",
    "            parent_pairs.append(pair)\n",
    "\n",
    "        \n",
    "        offsprings = []\n",
    "        fitness_offsprings = []\n",
    "        for parents in parent_pairs:\n",
    "            recombination_p = np.random.random()\n",
    "\n",
    "            ## the offspring for this iteration\n",
    "            iteration_offspring = []\n",
    "            \n",
    "            ######## Recombination ########\n",
    "            if recombination_p < p_c:\n",
    "                offspring1, offspring2 =  RECOMBINATION_METHOD(parents[0], parents[1], dataset, max_capacity, max_distance, depot_location_dict[depot_symbol], [depot_symbol])\n",
    "\n",
    "                iteration_offspring = [offspring1, offspring2]\n",
    "\n",
    "            \n",
    "            ######## Mutation ########\n",
    "            mutation_p = np.random.random()\n",
    "\n",
    "            ## if cross over has happend\n",
    "            if len(iteration_offspring) != 0 and mutation_p < p_m:\n",
    "                offspring1 = MUTATION_METHOD(iteration_offspring[0], max_capacity, dataset, depot_location_dict[depot_symbol], max_distance, [depot_symbol])\n",
    "                offspring2 = MUTATION_METHOD(iteration_offspring[1], max_capacity, dataset, depot_location_dict[depot_symbol], max_distance, [depot_symbol])\n",
    "\n",
    "                iteration_offspring = [offspring1, offspring2]\n",
    "            ## if cross over had not happened\n",
    "            elif mutation_p < p_m:\n",
    "                offspring1 = MUTATION_METHOD(parents[0], max_capacity, dataset, depot_location_dict[depot_symbol], max_distance, [depot_symbol])\n",
    "                offspring2 = MUTATION_METHOD(parents[1], max_capacity, dataset, depot_location_dict[depot_symbol], max_distance, [depot_symbol])\n",
    "\n",
    "                iteration_offspring = [offspring1, offspring2]\n",
    "            ## if both cross over and mutation has not happened!\n",
    "            else:\n",
    "                iteration_offspring = [parents[0], parents[1]]\n",
    "            \n",
    "            ## finally append the genarated offsprings to offspring array \n",
    "            offsprings.append(iteration_offspring[0])\n",
    "            offsprings.append(iteration_offspring[1])\n",
    "\n",
    "            fitness_offsprings.append(FITNESS_FUNCTION(iteration_offspring[0], depot_location_dict[depot_symbol], dataset))\n",
    "            fitness_offsprings.append(FITNESS_FUNCTION(iteration_offspring[1], depot_location_dict[depot_symbol], dataset))\n",
    "\n",
    "        ## replace the old population with the new ones\n",
    "\n",
    "        ## the whole generation: parents + offsprings\n",
    "        generation_population = population.copy()\n",
    "        generation_population.extend(offsprings)\n",
    "\n",
    "        ## whole generation fitness: parents fitness + offsprings fitness\n",
    "        generation_fitness = fitness_pop.copy()\n",
    "        generation_fitness.extend(fitness_offsprings)\n",
    "\n",
    "        ## the sorted generation\n",
    "        generation_population_sorted = np.array(generation_population)[np.argsort(generation_fitness)]\n",
    "        generation_fitness_sorted = np.sort(generation_fitness)\n",
    "\n",
    "        ## Step 10\n",
    "        ## extract the best of the new generation\n",
    "\n",
    "        best_of_generation_population = generation_population_sorted[:pop_count]\n",
    "        best_of_generation_fitness = generation_fitness_sorted[:pop_count]\n",
    "\n",
    "        best_chromosome = generation_population_sorted[0]\n",
    "        best_chromsome_fitness = generation_fitness_sorted[0]\n",
    "\n",
    "        ## save them into the original population arrays\n",
    "        population = best_of_generation_population.tolist()\n",
    "        fitness_pop = best_of_generation_fitness.tolist()\n",
    "\n",
    "        ## increase the generation value\n",
    "        generation_count += 1\n",
    "    \n",
    "    return best_chromosome, best_chromsome_fitness"
   ]
  },
  {
   "cell_type": "markdown",
   "metadata": {},
   "source": [
    "# PROBLEM No. 1\n",
    "The goal is to minimize the distance gone, of the vehicles with the parameters below\n",
    "- There is 1 depot in the location `(-14, 9)`\n",
    "- There are `6` vehicles\n",
    "- Maximum Capacity is `70`\n",
    "- The locations of the customers and their demands are in `P1.txt` file\n",
    "- The distance each vehicle can go is not limited."
   ]
  },
  {
   "cell_type": "code",
   "execution_count": 7,
   "metadata": {},
   "outputs": [],
   "source": [
    "p1_data = pd.read_csv('data/P1.txt', delimiter=' ')\n",
    "DEPOT_LOCATION = (-14, 9)\n",
    "\n",
    "pop_arr = generate_population(70, DEPOT_LOCATION, p1_data)"
   ]
  },
  {
   "cell_type": "code",
   "execution_count": null,
   "metadata": {},
   "outputs": [],
   "source": []
  },
  {
   "cell_type": "code",
   "execution_count": 8,
   "metadata": {},
   "outputs": [
    {
     "ename": "NameError",
     "evalue": "name 'cut_and_crossfil' is not defined",
     "output_type": "error",
     "traceback": [
      "\u001b[1;31m---------------------------------------------------------------------------\u001b[0m",
      "\u001b[1;31mNameError\u001b[0m                                 Traceback (most recent call last)",
      "Input \u001b[1;32mIn [8]\u001b[0m, in \u001b[0;36m<cell line: 1>\u001b[1;34m()\u001b[0m\n\u001b[0;32m      1\u001b[0m problem1_best_chromsome, problem1_best_chromsome_fitness \u001b[38;5;241m=\u001b[39m algorithm_run(pop_count \u001b[38;5;241m=\u001b[39m \u001b[38;5;241m50\u001b[39m, \n\u001b[0;32m      2\u001b[0m                 dataset\u001b[38;5;241m=\u001b[39mp1_data,\n\u001b[0;32m      3\u001b[0m                 depot_location_dict\u001b[38;5;241m=\u001b[39m {\u001b[38;5;124m'\u001b[39m\u001b[38;5;124m(1)\u001b[39m\u001b[38;5;124m'\u001b[39m: DEPOT_LOCATION},\n\u001b[0;32m      4\u001b[0m                 depot_symbol\u001b[38;5;241m=\u001b[39m\u001b[38;5;124m'\u001b[39m\u001b[38;5;124m(1)\u001b[39m\u001b[38;5;124m'\u001b[39m,\n\u001b[0;32m      5\u001b[0m                 max_capacity\u001b[38;5;241m=\u001b[39m\u001b[38;5;241m70\u001b[39m, \n\u001b[0;32m      6\u001b[0m                 vehicle_count\u001b[38;5;241m=\u001b[39m\u001b[38;5;241m6\u001b[39m, \n\u001b[0;32m      7\u001b[0m                 max_distance\u001b[38;5;241m=\u001b[39m\u001b[38;5;28;01mNone\u001b[39;00m,\n\u001b[0;32m      8\u001b[0m                 selection_method\u001b[38;5;241m=\u001b[39mbinary_tournament,\n\u001b[0;32m      9\u001b[0m                 FITNESS_FUNCTION\u001b[38;5;241m=\u001b[39mevaluate_distance_fitness,\n\u001b[0;32m     10\u001b[0m                 MUTATION_METHOD\u001b[38;5;241m=\u001b[39mmutation_scramble,\n\u001b[1;32m---> 11\u001b[0m                 RECOMBINATION_METHOD\u001b[38;5;241m=\u001b[39m\u001b[43mcut_and_crossfil\u001b[49m,\n\u001b[0;32m     12\u001b[0m                 max_evaluations\u001b[38;5;241m=\u001b[39m\u001b[38;5;241m5000\u001b[39m)\n\u001b[0;32m     14\u001b[0m problem1_best_chromsome, problem1_best_chromsome_fitness\n",
      "\u001b[1;31mNameError\u001b[0m: name 'cut_and_crossfil' is not defined"
     ]
    }
   ],
   "source": [
    "problem1_best_chromsome, problem1_best_chromsome_fitness = algorithm_run(pop_count = 50, \n",
    "                dataset=p1_data,\n",
    "                depot_location_dict= {'(1)': DEPOT_LOCATION},\n",
    "                depot_symbol='(1)',\n",
    "                max_capacity=70, \n",
    "                vehicle_count=6, \n",
    "                max_distance=None,\n",
    "                selection_method=binary_tournament,\n",
    "                FITNESS_FUNCTION=evaluate_distance_fitness,\n",
    "                MUTATION_METHOD=mutation_scramble,\n",
    "                RECOMBINATION_METHOD=cut_and_crossfil,\n",
    "                max_evaluations=5000)\n",
    "\n",
    "problem1_best_chromsome, problem1_best_chromsome_fitness"
   ]
  },
  {
   "cell_type": "markdown",
   "metadata": {},
   "source": [
    "# Problem No. 2\n",
    "The goal is to maximize the customers recieved service with parametes below\n",
    "- There is 1 depot in the location `(0, 13)`\n",
    "- There are `4` vehicles\n",
    "- Maximum distace each vehicle can go is `200` Km\n",
    "- The locations of the customers and their demands are in `P2.txt` file\n",
    "- The capacity is not limited for vehicles"
   ]
  },
  {
   "cell_type": "code",
   "execution_count": 7,
   "metadata": {},
   "outputs": [],
   "source": [
    "p2_data = pd.read_csv('data/P2.txt', delimiter=' ')\n",
    "DEPOT_LOCATION = (0, 13)"
   ]
  },
  {
   "cell_type": "code",
   "execution_count": 8,
   "metadata": {},
   "outputs": [
    {
     "name": "stdout",
     "output_type": "stream",
     "text": [
      "Generation Count: 0, Evaluations number: 50\n"
     ]
    },
    {
     "data": {
      "text/plain": [
       "('(1)160175106(1)107(1)169(1)148138(1)195(1)177(1)103157168(1)121156(1)|(1)180142129189(1)|(1)109(1)166139185(1)171192(1)165(1)146114(1)183124193(1)173133(1)104178(1)152101172119194(1)153161(1)|(1)155108200(1)117174110125(1)144123(1)162(1)113131(1)154184(1)181134(1)190(1)141115(1)116105112(1)122188(1)150120(1)118(1)197137(1)164(1)127176(1)102182191(1)128167(1)',\n",
       " 0.01282051282051282)"
      ]
     },
     "execution_count": 8,
     "metadata": {},
     "output_type": "execute_result"
    }
   ],
   "source": [
    "problem2_best_chromsome, problem2_best_chromsome_fitness = algorithm_run(pop_count = 50, \n",
    "                dataset=p2_data,\n",
    "                depot_location_dict= {'(1)': DEPOT_LOCATION},\n",
    "                depot_symbol='(1)',\n",
    "                max_capacity=None, \n",
    "                max_distance=200,\n",
    "                vehicle_count=4, \n",
    "                selection_method=binary_tournament,\n",
    "                FITNESS_FUNCTION=evaluate_fitness_customers,\n",
    "                MUTATION_METHOD=mutation_scramble,\n",
    "                RECOMBINATION_METHOD=cut_and_crossfill,\n",
    "                max_evaluations=5000)\n",
    "\n",
    "problem2_best_chromsome, problem2_best_chromsome_fitness"
   ]
  },
  {
   "cell_type": "code",
   "execution_count": 10,
   "metadata": {},
   "outputs": [
    {
     "data": {
      "text/plain": [
       "'149(1)'"
      ]
     },
     "execution_count": 10,
     "metadata": {},
     "output_type": "execute_result"
    }
   ],
   "source": [
    "chromsome = '(1)187168115183178105186(1)101130125147132162(1)138171170182140185(1)150196106155188(1)158116107111139133(1)|(1)108179151135(1)184134103112145163129(1)128192148102173(1)200152114144113(1)169143166120(1)|(1)156175191193(1)161165181(1)157124146154141(1)174136117123(1)|(1)167160176189(1)142121198180172126(1)153122159197(1)164127131194104(1)|(1)195137119110118(1)109199177190(1)|(1)149(1)'\n",
    "chromsome[-6:]"
   ]
  },
  {
   "cell_type": "code",
   "execution_count": 7,
   "metadata": {},
   "outputs": [
    {
     "data": {
      "text/plain": [
       "82.0"
      ]
     },
     "execution_count": 7,
     "metadata": {},
     "output_type": "execute_result"
    }
   ],
   "source": [
    "# p2_data[abs(p2_data.x - DEPOT_LOCATION[0]) + abs(p2_data.y - DEPOT_LOCATION[0]) > 100]\n",
    "1 / 0.012195121951219513"
   ]
  }
 ],
 "metadata": {
  "kernelspec": {
   "display_name": "Python 3 (ipykernel)",
   "language": "python",
   "name": "python3"
  },
  "language_info": {
   "codemirror_mode": {
    "name": "ipython",
    "version": 3
   },
   "file_extension": ".py",
   "mimetype": "text/x-python",
   "name": "python",
   "nbconvert_exporter": "python",
   "pygments_lexer": "ipython3",
   "version": "3.10.6"
  },
  "vscode": {
   "interpreter": {
    "hash": "2b955d226d9aa9f90a51fa3f36ce22332332eca7b3eabee7dfc09f1063aca4ef"
   }
  }
 },
 "nbformat": 4,
 "nbformat_minor": 2
}
