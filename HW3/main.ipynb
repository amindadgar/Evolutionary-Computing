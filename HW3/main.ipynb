{
 "cells": [
  {
   "attachments": {},
   "cell_type": "markdown",
   "metadata": {},
   "source": [
    "# Evolutionary Computing Exercise No. 3\n",
    "**Stu. Name:** Mohammad Amin Dadgar\n",
    "\n",
    "**Stu. Id:** 4003624016"
   ]
  },
  {
   "attachments": {},
   "cell_type": "markdown",
   "metadata": {},
   "source": [
    "This is the third project for evolutionary computing course in Isfahan university instructed by Dr. Hossein Karshenas. In this project we practised another type of evolutionary algorithms named Neural Architecture Search (NAS). NAS algorithm is used here to find the best architecture of a transformer network that has the ability to classify the imdb dataset. There are two positive and negative classes available that the best network architecture will have the highest accuracy and lowest loss."
   ]
  },
  {
   "cell_type": "markdown",
   "metadata": {},
   "source": [
    "## Algorithm Configurations"
   ]
  },
  {
   "cell_type": "markdown",
   "metadata": {},
   "source": [
    "### Representation\n",
    "Representation for our algorithm has three levels.\n",
    "\n",
    "- First level is just showing a concept for the network architecture in which the green boxes are optional (can be shown or not, 0 or 1)\n",
    "\n",
    "    <img src='architecture_level1.png'>\n",
    "- Second level is representing the transformer layer\n",
    "\n",
    "    <img src='architecture_level2.png'>\n",
    "- And the third level is showing the FFN and feed-forward network architectures\n",
    "\n",
    "    <img src='architecture_level3.png'>"
   ]
  },
  {
   "cell_type": "markdown",
   "metadata": {},
   "source": [
    "For each gene we can use numerical values which are 0 to 9. As we can see in the exercise each hyperparameter has 2, 3, or 4 values and by that we can convert the numerical values from intervals as below\n",
    "\n",
    "**Two valued hyperparameters:**\n",
    "- 0:4 → 0\n",
    "- 5:9 → 1\n",
    "\n",
    "**Three valued hyperparameters:**\n",
    "- 0:3 → 0\n",
    "- 4:6 → 1\n",
    "- 7:9 → 2\n",
    "\n",
    "**Four valued hyperparameters:**\n",
    "- 0:1 → 0\n",
    "- 2:4 → 1\n",
    "- 5:7 → 2\n",
    "- 8:9 → 3\n",
    "\n",
    "**100 valued hyperparameters:**\n",
    "- 0 → 0\n",
    "- 1 → 10\n",
    "- 2 → 20\n",
    "- ...\n",
    "- 9 → 90\n",
    "- And 100 would not really work in our 100 valued parametered dropout probability, so we'll exclude it from possible values. \n"
   ]
  },
  {
   "cell_type": "markdown",
   "metadata": {},
   "source": [
    "So to represent a chromsome `1+3×(3+3×2)+3` bits are requierd. The first `1` is $d_{model}$, then in the clause `3×(3+3×2)+3`, the first `3` is showing three possible transform layers. In the paranthesis the first `3` is showing the bit for attention head count and normalization layers then the `3` in multiplication is the count of possible hyperparameters in FFN layer (we could have 2 FFN layer in a transformer) and the last `3` in the equation is the final FFN layer for the network. So `31` bits will be used."
   ]
  },
  {
   "attachments": {},
   "cell_type": "markdown",
   "metadata": {},
   "source": [
    "### Recombination and Mutation\n",
    "To combine chromsomes for two recombination and mutation methods, we should assume the three level architecture for it. To that aim, We had implemented the mutation based on the conceptual (level 1) chromosome meaning the transformers and FFN layer are mutated as a pack. For recombination method, a normal single point or uniform cross-over can be used.\n",
    "\n",
    "To explain the methods further, it is possible to say that the mutation of a layer will make the values in phenotype chromosomes `None` or cantrarily it will set a value for  `None` values, which the model wouldn't have that kind of layer (or it would have the layer). For recombination the normal cross-over methods is applied."
   ]
  },
  {
   "attachments": {},
   "cell_type": "markdown",
   "metadata": {},
   "source": [
    "### End Condition\n",
    "The end condition is the count of generations, which is 10 as given in the exercise but we evaluated the algorithm in 12 generations to evalute the algorithm results further.\n",
    "### Fitness Function\n",
    "The fitness function is assumed the training 5 epoch of the transformer network and returning the 5 average test loss of it. As we will see the transfomer network does have high computational complexity (in time and hardware resources), so that's the reason that the end condition, averaging count, and epochs are set as low as they can be. \n",
    "\n",
    "The algorithm has run in google colab which gives a free GPU service for about 4 to 5 hours and to use more another the code and the results was transfered into another google account.  "
   ]
  },
  {
   "attachments": {},
   "cell_type": "markdown",
   "metadata": {},
   "source": [
    "### libraries used \n",
    "in this project [numpy](https://numpy.org/), [matplotlib](https://matplotlib.org/), [keras](https://keras.io/), and [random](https://docs.python.org/3/library/random.html) libraries were used. numpy was used to create and modify array like structures and matplotlib is a visualization library that does the works to visualize our results. keras is a library on top of tensorflow which gives an abstraction level of the neural network and it hides the complexities of creating a neural network for the user. With keras we implemented our neural network and trained it to get the predictions. random is a python modules which gives random number and it was used in our population generation, mutation, and recombination methods. "
   ]
  },
  {
   "cell_type": "code",
   "execution_count": 1,
   "metadata": {},
   "outputs": [],
   "source": [
    "## the libraries from other contributers\n",
    "import numpy as np\n",
    "import os ## a python default library\n",
    "import matplotlib.pyplot as plt\n",
    "\n",
    "## our written codes\n",
    "from population import generate_population\n",
    "from combination import mutation_creep, single_point\n",
    "from util import convert_genotype_to_phenotype_values\n",
    "from selection import binary_tournament\n",
    "from transformer_network_creator import fitness_evaluate, create_model\n"
   ]
  },
  {
   "cell_type": "code",
   "execution_count": 2,
   "metadata": {},
   "outputs": [],
   "source": [
    "def algorithm_run(pop_count, SELECTION_METHOD, FITNESS_FUNCTION, MUTATION_METHOD, RECOMBINATION_METHOD, start_generation, last_population=None, last_population_fitness = None, p_m=0.1, p_c =0.9 ,max_generations = 10, RESULTS_DIR='/content/gdrive/MyDrive/EC Project/'):\n",
    "    \"\"\"\n",
    "    one constraint should be always given as input, the maximum capacity or maximum distance\n",
    "    \"\"\"\n",
    "    ## if we had generated population before\n",
    "    if last_population is None:\n",
    "      population = generate_population(pop_size=pop_count)\n",
    "      fitness_pop = []\n",
    "      for chromosome in population:\n",
    "          chromosome_fitness = FITNESS_FUNCTION(chromosome, None, 5)\n",
    "          fitness_pop.append(chromosome_fitness)\n",
    "    else:\n",
    "      print('Population is loaded from file!\\n')\n",
    "      fitness_pop = last_population_fitness\n",
    "      population = last_population\n",
    "\n",
    "\n",
    "    best_chromosome = None\n",
    "    best_chromsome_fitness = None\n",
    "    \n",
    "    generation_num = 0\n",
    "    if start_generation is not None:\n",
    "      generation_num = start_generation\n",
    "    for generation_idx in range( generation_num ,max_generations):\n",
    "        print('*' * 30 + f'Generation Number: {generation_idx}' + '*' * 30)\n",
    "\n",
    "\n",
    "        ## create pair of the parents\n",
    "        parent_pairs = []\n",
    "        for _ in range(pop_count):\n",
    "            pair = SELECTION_METHOD(population, fitness_pop)\n",
    "            parent_pairs.append(pair)\n",
    "\n",
    "        \n",
    "        offsprings = []\n",
    "        fitness_offsprings = []\n",
    "        for parents in parent_pairs:\n",
    "            recombination_p = np.random.random()\n",
    "\n",
    "            ## the offspring for this iteration\n",
    "            ## first save the parents to change them later\n",
    "            iteration_offspring = [parents[0], parents[1]]\n",
    "            \n",
    "            ######## Recombination ########\n",
    "            if recombination_p < p_c:\n",
    "                offspring1, offspring2 =  RECOMBINATION_METHOD(iteration_offspring[0], iteration_offspring[1])\n",
    "\n",
    "                iteration_offspring = [offspring1, offspring2]\n",
    "\n",
    "            ######## Mutation ########\n",
    "            offspring1 = MUTATION_METHOD(iteration_offspring[0], p_m)\n",
    "            offspring2 = MUTATION_METHOD(iteration_offspring[1], p_m)\n",
    "\n",
    "            iteration_offspring = [offspring1, offspring2]\n",
    "                \n",
    "            ## finally append the genarated offsprings to offspring array \n",
    "            offsprings.append(iteration_offspring[0])\n",
    "            offsprings.append(iteration_offspring[1])\n",
    "            \n",
    "            fitness_offsprings.append(FITNESS_FUNCTION(iteration_offspring[0], RESULTS_DIR + f'NEW_generation_number_{generation_idx}.txt', 5))\n",
    "            fitness_offsprings.append(FITNESS_FUNCTION(iteration_offspring[1], RESULTS_DIR + f'NEW_generation_number_{generation_idx}.txt', 5))\n",
    "            \n",
    "                \n",
    "        ######## Replacement ########\n",
    "\n",
    "        ## the whole generation: parents + offsprings\n",
    "        generation_population = population.copy()\n",
    "        generation_population.extend(offsprings)\n",
    "\n",
    "        ## whole generation fitness: parents fitness + offsprings fitness\n",
    "        generation_fitness = fitness_pop.copy()\n",
    "        generation_fitness.extend(fitness_offsprings)\n",
    "\n",
    "        ## the sorted generation\n",
    "        generation_population_sorted = np.array(generation_population)[np.argsort(generation_fitness)]\n",
    "        generation_fitness_sorted = np.sort(generation_fitness)\n",
    "\n",
    "        ## Step 10\n",
    "        ## extract the best of the new generation\n",
    "        best_of_generation_population = generation_population_sorted[:pop_count]\n",
    "        best_of_generation_fitness = generation_fitness_sorted[:pop_count]\n",
    "\n",
    "        best_chromosome = generation_population_sorted[0]\n",
    "        best_chromsome_fitness = generation_fitness_sorted[0]\n",
    "        \n",
    "        ## save them into the original population arrays\n",
    "        population = best_of_generation_population.tolist()\n",
    "        fitness_pop = best_of_generation_fitness.tolist()\n",
    "\n",
    "    return best_chromosome, best_chromsome_fitness"
   ]
  },
  {
   "cell_type": "code",
   "execution_count": null,
   "metadata": {},
   "outputs": [],
   "source": [
    "################ This part ran on colab and won't be run here ################\n",
    "answer_chromosome, answer_chromsome_fitness = algorithm_run(pop_count=10, \n",
    "                SELECTION_METHOD=binary_tournament, \n",
    "                FITNESS_FUNCTION=fitness_evaluate, \n",
    "                MUTATION_METHOD=mutation_creep, \n",
    "                RECOMBINATION_METHOD=single_point,\n",
    "                p_m=0.1,\n",
    "                p_c=0.9,\n",
    "                max_generations=14, \n",
    "                last_population=None,\n",
    "                last_population_fitness=None, \n",
    "                start_generation=10)"
   ]
  },
  {
   "attachments": {},
   "cell_type": "markdown",
   "metadata": {},
   "source": [
    "## Results\n",
    "The algorithm ran on google colab in different sessions to complete the results. While running on colab we saved the results in a file. The content of each file shows the genotype chromosomes with 5 evaluation of the created model on test set. The results of evaluations are shown using the loss metric, so the less the value represents a better model.    "
   ]
  },
  {
   "cell_type": "code",
   "execution_count": 3,
   "metadata": {},
   "outputs": [],
   "source": [
    "All_pop = []\n",
    "All_pop_fitness = []\n",
    "\n",
    "for i in range(12):\n",
    "    ## Reading the last saved population\n",
    "    ## comment this code if you are starting from scratch\n",
    "    with open(os.path.join('results', f'NEW_generation_number_{i}.txt'), 'r') as file:\n",
    "        information = file.read()\n",
    "\n",
    "    population = []\n",
    "    population_fitness = []\n",
    "    for individual_info in information.split('\\n'):\n",
    "        if individual_info != '':\n",
    "            individual, individual_fitness_str_arr = individual_info.replace(' ', '').split(':') \n",
    "            ## convert to their specific types\n",
    "            individual = str(individual)\n",
    "        \n",
    "            float_data_arr = individual_fitness_str_arr.replace('[', '').replace(']', '').split(',')\n",
    "            float_data_arr = [float(data) for data in float_data_arr]\n",
    "            individual_fitness = np.mean(float_data_arr)\n",
    "\n",
    "            population.append(individual)\n",
    "            population_fitness.append(individual_fitness)\n",
    "    All_pop.append(population)\n",
    "    All_pop_fitness.append(population_fitness)"
   ]
  },
  {
   "cell_type": "code",
   "execution_count": 4,
   "metadata": {},
   "outputs": [
    {
     "data": {
      "text/plain": [
       "(12, 20)"
      ]
     },
     "execution_count": 4,
     "metadata": {},
     "output_type": "execute_result"
    }
   ],
   "source": [
    "All_pop = np.array(All_pop)\n",
    "All_pop_fitness = np.array(All_pop_fitness)\n",
    "\n",
    "All_pop.shape"
   ]
  },
  {
   "cell_type": "code",
   "execution_count": 5,
   "metadata": {},
   "outputs": [
    {
     "data": {
      "image/png": "[encoded data removed]",
      "text/plain": [
       "<Figure size 800x600 with 1 Axes>"
      ]
     },
     "metadata": {},
     "output_type": "display_data"
    }
   ],
   "source": [
    "plt.figure(figsize=(8, 6))\n",
    "plt.title('Fitness of 12 generations, (minimum is better)')\n",
    "generation_mean = np.mean(All_pop_fitness, axis=1)\n",
    "generation_max = np.max(All_pop_fitness, axis=1)\n",
    "generation_min = np.min(All_pop_fitness, axis=1)\n",
    "plt.plot(generation_mean, label='Genaration average fitness values')\n",
    "plt.plot(generation_max, label='Genaration max fitness values')\n",
    "plt.plot(generation_min, label='Genaration min fitness values')\n",
    "plt.xticks(np.arange(12))\n",
    "plt.legend()\n",
    "plt.show()"
   ]
  },
  {
   "cell_type": "code",
   "execution_count": 6,
   "metadata": {},
   "outputs": [
    {
     "name": "stdout",
     "output_type": "stream",
     "text": [
      "Best Chromosome is: \n",
      "0738671731000000000000000000596\n",
      "And its phenotype is: \n",
      "(16, ((20, 'R', 0.8, False), (20, 'R', 0.7, True), 1), ((None, None, None, None), (None, None, None, True), 1), ((None, None, None, None), (None, None, None, True), 1), (20, 'S', 0.6))\n",
      "Fitness Value is: 0.34032297134399414\n"
     ]
    }
   ],
   "source": [
    "## The best chromosome representing the network architecture\n",
    "best_chromosome = All_pop.flatten()[np.argmin(All_pop_fitness)]\n",
    "best_phenotype = convert_genotype_to_phenotype_values(best_chromosome)\n",
    "\n",
    "print(f'Best Chromosome is: \\n{best_chromosome}\\nAnd its phenotype is: \\n{best_phenotype}\\nFitness Value is: {np.min(All_pop_fitness)}')"
   ]
  },
  {
   "cell_type": "code",
   "execution_count": 7,
   "metadata": {},
   "outputs": [
    {
     "name": "stdout",
     "output_type": "stream",
     "text": [
      "best model\n",
      "Model: \"model\"\n",
      "_________________________________________________________________\n",
      " Layer (type)                Output Shape              Param #   \n",
      "=================================================================\n",
      " input_1 (InputLayer)        [(None, 200)]             0         \n",
      "                                                                 \n",
      " token_and_position_embeddin  (None, 200, 16)          323200    \n",
      " g (TokenAndPositionEmbeddin                                     \n",
      " g)                                                              \n",
      "                                                                 \n",
      " transformer_block (Transfor  (None, 200, 16)          2472      \n",
      " merBlock)                                                       \n",
      "                                                                 \n",
      " global_average_pooling1d (G  (None, 16)               0         \n",
      " lobalAveragePooling1D)                                          \n",
      "                                                                 \n",
      " dense_4 (Dense)             (None, 20)                340       \n",
      "                                                                 \n",
      " dropout_2 (Dropout)         (None, 20)                0         \n",
      "                                                                 \n",
      " dense_5 (Dense)             (None, 2)                 42        \n",
      "                                                                 \n",
      "=================================================================\n",
      "Total params: 326,054\n",
      "Trainable params: 326,054\n",
      "Non-trainable params: 0\n",
      "_________________________________________________________________\n"
     ]
    }
   ],
   "source": [
    "model = create_model(best_chromosome)\n",
    "print(\"best model\")\n",
    "model.summary()"
   ]
  },
  {
   "attachments": {},
   "cell_type": "markdown",
   "metadata": {},
   "source": [
    "So as we can see from the plotted results, it seems the best chromosome was created in sixth generation, which is printed above. The fitness landscape is representing that until the sixth generation, the fitness values were being better but the exploration in the problem was so high that the algorithm came out of the optimum value and explored other chromosomes. \n",
    "\n",
    "The generation of the population was in a way that no None values were available meaning the network has more layers in start but as the generations goes on, the less the layers came and as a conclusion of this phenomenon, we can say that the complex networks doesn't have the best accuracy and loss values.\n",
    " \n",
    "The best model is also being printed in the cell above and it is simple to use the model in real world problems. \n",
    "\n",
    "To see the best chromosome accuracy we evalueted it further here in the cell below."
   ]
  },
  {
   "cell_type": "code",
   "execution_count": 8,
   "metadata": {},
   "outputs": [
    {
     "name": "stdout",
     "output_type": "stream",
     "text": [
      "25000 Training sequences\n",
      "25000 Test sequences\n",
      "Epoch 1/5\n",
      "391/391 - 10s - loss: 0.7014 - accuracy: 0.5073 - 10s/epoch - 26ms/step\n",
      "Epoch 2/5\n",
      "391/391 - 7s - loss: 0.4444 - accuracy: 0.8138 - 7s/epoch - 18ms/step\n",
      "Epoch 3/5\n",
      "391/391 - 6s - loss: 0.2648 - accuracy: 0.9150 - 6s/epoch - 16ms/step\n",
      "Epoch 4/5\n",
      "391/391 - 5s - loss: 0.1975 - accuracy: 0.9446 - 5s/epoch - 14ms/step\n",
      "Epoch 5/5\n",
      "391/391 - 5s - loss: 0.1446 - accuracy: 0.9596 - 5s/epoch - 13ms/step\n",
      "782/782 [==============================] - 6s 8ms/step - loss: 0.4625 - accuracy: 0.8602\n",
      "25000 Training sequences\n",
      "25000 Test sequences\n",
      "Epoch 1/5\n",
      "391/391 - 6s - loss: 0.7250 - accuracy: 0.5100 - 6s/epoch - 16ms/step\n",
      "Epoch 2/5\n",
      "391/391 - 5s - loss: 0.3890 - accuracy: 0.8370 - 5s/epoch - 13ms/step\n",
      "Epoch 3/5\n",
      "391/391 - 5s - loss: 0.2268 - accuracy: 0.9252 - 5s/epoch - 13ms/step\n",
      "Epoch 4/5\n",
      "391/391 - 5s - loss: 0.1697 - accuracy: 0.9504 - 5s/epoch - 14ms/step\n",
      "Epoch 5/5\n",
      "391/391 - 6s - loss: 0.1291 - accuracy: 0.9660 - 6s/epoch - 16ms/step\n",
      "782/782 [==============================] - 9s 11ms/step - loss: 0.4524 - accuracy: 0.8625\n",
      "25000 Training sequences\n",
      "25000 Test sequences\n",
      "Epoch 1/5\n",
      "391/391 - 7s - loss: 0.7060 - accuracy: 0.5047 - 7s/epoch - 18ms/step\n",
      "Epoch 2/5\n",
      "391/391 - 6s - loss: 0.5441 - accuracy: 0.6963 - 6s/epoch - 15ms/step\n",
      "Epoch 3/5\n",
      "391/391 - 6s - loss: 0.2879 - accuracy: 0.9019 - 6s/epoch - 15ms/step\n",
      "Epoch 4/5\n",
      "391/391 - 6s - loss: 0.2099 - accuracy: 0.9357 - 6s/epoch - 15ms/step\n",
      "Epoch 5/5\n",
      "391/391 - 6s - loss: 0.1631 - accuracy: 0.9528 - 6s/epoch - 16ms/step\n",
      "782/782 [==============================] - 8s 10ms/step - loss: 0.4038 - accuracy: 0.8643\n",
      "25000 Training sequences\n",
      "25000 Test sequences\n",
      "Epoch 1/5\n",
      "391/391 - 7s - loss: 0.7082 - accuracy: 0.5042 - 7s/epoch - 18ms/step\n",
      "Epoch 2/5\n",
      "391/391 - 6s - loss: 0.6933 - accuracy: 0.4959 - 6s/epoch - 15ms/step\n",
      "Epoch 3/5\n",
      "391/391 - 6s - loss: 0.6788 - accuracy: 0.5267 - 6s/epoch - 16ms/step\n",
      "Epoch 4/5\n",
      "391/391 - 6s - loss: 0.3571 - accuracy: 0.8668 - 6s/epoch - 16ms/step\n",
      "Epoch 5/5\n",
      "391/391 - 6s - loss: 0.2379 - accuracy: 0.9228 - 6s/epoch - 16ms/step\n",
      "782/782 [==============================] - 8s 10ms/step - loss: 0.3243 - accuracy: 0.8751\n",
      "25000 Training sequences\n",
      "25000 Test sequences\n",
      "Epoch 1/5\n",
      "391/391 - 6s - loss: 0.7032 - accuracy: 0.4989 - 6s/epoch - 15ms/step\n",
      "Epoch 2/5\n",
      "391/391 - 4s - loss: 0.6557 - accuracy: 0.5628 - 4s/epoch - 11ms/step\n",
      "Epoch 3/5\n",
      "391/391 - 4s - loss: 0.3421 - accuracy: 0.8700 - 4s/epoch - 11ms/step\n",
      "Epoch 4/5\n",
      "391/391 - 4s - loss: 0.2351 - accuracy: 0.9213 - 4s/epoch - 11ms/step\n",
      "Epoch 5/5\n",
      "391/391 - 4s - loss: 0.1819 - accuracy: 0.9435 - 4s/epoch - 11ms/step\n",
      "782/782 [==============================] - 6s 7ms/step - loss: 0.3989 - accuracy: 0.8709\n"
     ]
    },
    {
     "data": {
      "text/plain": [
       "0.4084173679351807"
      ]
     },
     "execution_count": 8,
     "metadata": {},
     "output_type": "execute_result"
    }
   ],
   "source": [
    "################ This cell has run on our system ################\n",
    "fitness_evaluate(best_chromosome, None)"
   ]
  },
  {
   "attachments": {},
   "cell_type": "markdown",
   "metadata": {},
   "source": [
    "\n",
    "There are many options available to improve the algorithm for future works that we've listed them below:\n",
    "- The fitness values are chosen to be the mean test loss values of the network in 5 time training, but to imrove it we could add or divide the fitness values based on the number of layers in network, in which for 2 networks the one that has less layers would be prefered to be chosen.\n",
    "- To avoid the problem of comming out of the optimum point in lastest generations, we could present an adaptive version of evolutionary algorithm in which for the lastest layers the mutation rate becomes less.\n",
    "- To increase tha variety of the chromosomes, the diversity preservation algorithms could be used (Not sure about how can they improve the algorithm but can be tested).\n",
    "- The binary tournament selection method is used here but other methods can be also applied."
   ]
  }
 ],
 "metadata": {
  "kernelspec": {
   "display_name": "Python 3.9.13 ('tf')",
   "language": "python",
   "name": "python3"
  },
  "language_info": {
   "codemirror_mode": {
    "name": "ipython",
    "version": 3
   },
   "file_extension": ".py",
   "mimetype": "text/x-python",
   "name": "python",
   "nbconvert_exporter": "python",
   "pygments_lexer": "ipython3",
   "version": "3.9.13"
  },
  "orig_nbformat": 4,
  "vscode": {
   "interpreter": {
    "hash": "7c381ab827b2c72672c136fca7feabf28897bbc6ea06ab9a5379db0b1c88ea78"
   }
  }
 },
 "nbformat": 4,
 "nbformat_minor": 2
}
