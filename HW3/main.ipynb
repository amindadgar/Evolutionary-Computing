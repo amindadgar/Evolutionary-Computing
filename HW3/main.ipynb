{
 "cells": [
  {
   "cell_type": "markdown",
   "metadata": {},
   "source": [
    "# Evolutionary Computing Exercise No. 3\n",
    "**Stu. Name:** Mohammad Amin Dadgar\n",
    "\n",
    "**Stu. Id:** 4003624016"
   ]
  },
  {
   "cell_type": "markdown",
   "metadata": {},
   "source": [
    "## Algorithm Configurations"
   ]
  },
  {
   "cell_type": "markdown",
   "metadata": {},
   "source": [
    "### Representation\n",
    "Representation for our algorithm has three levels.\n",
    "\n",
    "- First level is just showing a concept for the network architecture in which the green boxes are optional (can be shown or not, 0 or 1)\n",
    "\n",
    "    <img src='architecture_level1.png'>\n",
    "- Second level is representing the transformer layer\n",
    "\n",
    "    <img src='architecture_level2.png'>\n",
    "- And the third level is showing the FFN and feed-forward network architectures\n",
    "\n",
    "    <img src='architecture_level3.png'>"
   ]
  },
  {
   "cell_type": "markdown",
   "metadata": {},
   "source": [
    "For each gene we can use numerical values which are 0 to 9. As we can see in the exercise each hyperparameter has 2, 3, or 4 values and by that we can convert the numerical values from intervals as below\n",
    "\n",
    "**Two valued hyperparameters:**\n",
    "- 0:4 → 0\n",
    "- 5:9 → 1\n",
    "\n",
    "**Three valued hyperparameters:**\n",
    "- 0:3 → 0\n",
    "- 4:6 → 1\n",
    "- 7:9 → 2\n",
    "\n",
    "**Four valued hyperparameters:**\n",
    "- 0:1 → 0\n",
    "- 2:4 → 1\n",
    "- 5:7 → 2\n",
    "- 8:9 → 3\n",
    "\n",
    "**100 valued hyperparameters:**\n",
    "- 0 → 0\n",
    "- 1 → 10\n",
    "- 2 → 20\n",
    "- ...\n",
    "- 9 → 90\n",
    "- And 100 would not really work in our 100 valued parametered dropout probability, so we'll exclude it from possible values. \n"
   ]
  },
  {
   "cell_type": "markdown",
   "metadata": {},
   "source": [
    "So to represent a chromsome `1+3×(3+3×2)+3` bits are requierd. The first `1` is $d_{model}$, then in the clause `3×(1+3×1)+3`, the first `3` is showing three possible transform layers. In the paranthesis the first `3` is showing the bit for attention head count and normalization layers then the `3` in multiplication is the count of possible hyperparameters in FFN layer (we could have 2 FFN layer in a transformer) and the last `3` in the equation is the final FFN layer for the network. So `31` bits will be used."
   ]
  },
  {
   "cell_type": "markdown",
   "metadata": {},
   "source": [
    "### Combinations\n",
    "To combine chromsomes for two recombination and mutation methods, we should assume the three level architecture for it. To that aim for combining the chromsomes we use the first level at the first step. After combining and finding the first level architecture for the chromsome, then the second level will be a population based combination (more than two parents) and for the third level again we will assume the same parts of the parent chromsomes as multiple chromsome. To find out more each method is explained well in subsections below\n",
    "\n",
    "#### Recombination\n",
    "We will apply one point cross-over for first level representation in which for 31 bits representation the break point can be either 1, 10, or 19. For the second and third level represnetation a probabilistic uniform cross-over is used (for example we have the feed forward hyperparameters 7 times repeated and the attention head count hyperparameter 3 times repeated). \n",
    "\n",
    "#### Mutation\n",
    "An integer mutation method will be used for first level mutation in which representing the availability of the transformer layers, and then for second and third levels the simple integer mutation is being used."
   ]
  },
  {
   "cell_type": "markdown",
   "metadata": {},
   "source": [
    "### End Condition\n",
    "The end condition is ... TODO"
   ]
  },
  {
   "cell_type": "code",
   "execution_count": 11,
   "metadata": {},
   "outputs": [],
   "source": [
    "from population import generate_population\n",
    "from combination import mutation_creep, single_point\n",
    "from util import convert_genotype_to_phenotype_values, map_hyperparameters\n",
    "import numpy as np"
   ]
  },
  {
   "cell_type": "code",
   "execution_count": null,
   "metadata": {},
   "outputs": [],
   "source": [
    "pop = generate_population()\n",
    "convert_genotype_to_phenotype_values(pop[2])"
   ]
  },
  {
   "cell_type": "code",
   "execution_count": null,
   "metadata": {},
   "outputs": [],
   "source": [
    "def algorithm_run(pop_count, SELECTION_METHOD, FITNESS_FUNCTION, MUTATION_METHOD, RECOMBINATION_METHOD, p_m=0.1, p_c =0.9 ,max_generations = 10):\n",
    "    \"\"\"\n",
    "    one constraint should be always given as input, the maximum capacity or maximum distance\n",
    "    \"\"\"\n",
    "\n",
    "    population, fitness_pop = generate_population(pop_size=pop_count)\n",
    "\n",
    "    best_chromosome = None\n",
    "    best_chromsome_fitness = None\n",
    "\n",
    "    for generation_idx in range(max_generations):\n",
    "        print(f'Generation Number: {generation_idx}')\n",
    "\n",
    "        ## create pair of the parents\n",
    "        parent_pairs = []\n",
    "        for _ in range(pop_count):\n",
    "            pair = SELECTION_METHOD(population, fitness_pop)\n",
    "            parent_pairs.append(pair)\n",
    "\n",
    "        \n",
    "        offsprings = []\n",
    "        fitness_offsprings = []\n",
    "        for parents in parent_pairs:\n",
    "            recombination_p = np.random.random()\n",
    "\n",
    "            ## the offspring for this iteration\n",
    "            ## first save the parents to change them later\n",
    "            iteration_offspring = [parents[0], parents[1]]\n",
    "            \n",
    "            ######## Recombination ########\n",
    "            if recombination_p < p_c:\n",
    "                offspring1, offspring2 =  RECOMBINATION_METHOD(iteration_offspring[0], iteration_offspring[1])\n",
    "\n",
    "                iteration_offspring = [offspring1, offspring2]\n",
    "\n",
    "            ######## Mutation ########\n",
    "            offspring1 = MUTATION_METHOD(iteration_offspring[0], p_m)\n",
    "            offspring2 = MUTATION_METHOD(iteration_offspring[1], p_m)\n",
    "\n",
    "            iteration_offspring = [offspring1, offspring2]\n",
    "                \n",
    "            ## finally append the genarated offsprings to offspring array \n",
    "            offsprings.append(iteration_offspring[0])\n",
    "            offsprings.append(iteration_offspring[1])\n",
    "            \n",
    "            fitness_offsprings.append(FITNESS_FUNCTION(iteration_offspring[0]))\n",
    "            fitness_offsprings.append(FITNESS_FUNCTION(iteration_offspring[1]))\n",
    "            \n",
    "                \n",
    "        ######## Replacement ########\n",
    "\n",
    "        ## the whole generation: parents + offsprings\n",
    "        generation_population = population.copy()\n",
    "        generation_population.extend(offsprings)\n",
    "\n",
    "        ## whole generation fitness: parents fitness + offsprings fitness\n",
    "        generation_fitness = fitness_pop.copy()\n",
    "        generation_fitness.extend(fitness_offsprings)\n",
    "\n",
    "        ## the sorted generation\n",
    "        generation_population_sorted = np.array(generation_population)[np.argsort(generation_fitness)]\n",
    "        generation_fitness_sorted = np.sort(generation_fitness)\n",
    "\n",
    "        ## Step 10\n",
    "        ## extract the best of the new generation\n",
    "        best_of_generation_population = generation_population_sorted[:pop_count]\n",
    "        best_of_generation_fitness = generation_fitness_sorted[:pop_count]\n",
    "\n",
    "        best_chromosome = generation_population_sorted[0]\n",
    "        best_chromsome_fitness = generation_fitness_sorted[0]\n",
    "        \n",
    "        ## save them into the original population arrays\n",
    "        population = best_of_generation_population.tolist()\n",
    "        fitness_pop = best_of_generation_fitness.tolist()\n",
    "\n",
    "    \n",
    "    return best_chromosome, best_chromsome_fitness"
   ]
  },
  {
   "cell_type": "code",
   "execution_count": null,
   "metadata": {},
   "outputs": [],
   "source": []
  },
  {
   "cell_type": "code",
   "execution_count": null,
   "metadata": {},
   "outputs": [],
   "source": []
  }
 ],
 "metadata": {
  "kernelspec": {
   "display_name": "Python 3.10.6 64-bit",
   "language": "python",
   "name": "python3"
  },
  "language_info": {
   "codemirror_mode": {
    "name": "ipython",
    "version": 3
   },
   "file_extension": ".py",
   "mimetype": "text/x-python",
   "name": "python",
   "nbconvert_exporter": "python",
   "pygments_lexer": "ipython3",
   "version": "3.10.6"
  },
  "orig_nbformat": 4,
  "vscode": {
   "interpreter": {
    "hash": "2b955d226d9aa9f90a51fa3f36ce22332332eca7b3eabee7dfc09f1063aca4ef"
   }
  }
 },
 "nbformat": 4,
 "nbformat_minor": 2
}
